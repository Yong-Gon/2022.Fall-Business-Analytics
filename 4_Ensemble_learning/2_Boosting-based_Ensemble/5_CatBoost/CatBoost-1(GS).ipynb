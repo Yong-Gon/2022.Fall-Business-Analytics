{
 "cells": [
  {
   "cell_type": "markdown",
   "id": "54ee1ba2",
   "metadata": {},
   "source": [
    "### 결과 파일의 용량이 너무 커서, 파일 업로드 및 노트북 파일 열기가 되지 않아 재수정 후 다시 업로드 합니다"
   ]
  },
  {
   "cell_type": "markdown",
   "id": "0e8fa6c2",
   "metadata": {},
   "source": [
    "- 본 튜토리얼은 범주형 변수 처리에 있어서 좋은 성능을 보이고 있는 CatBoost 방법론에 대한 자료입니다.\n",
    "- CatBoost의 설정 파라미터를 알아보고, 이에 대해 다양한 설정값에서의 결과를 알아보고, 최적의 파라미터 조합을 찾아보는 것을 진행합니다.\n",
    "- 특히, CatBoost에서 범주형 변수를 처리하는 방식인 Ordered TS와 관련하여, 이전부터 있었던 다양한 범주형 변수 처리 방법과 Target Statistic 계산 방법을 이용하여 성능을 비교하고, 어떤 방식이 가장 다범주 변수 처리에 있어 성능이 좋은지를 알아보겠습니다."
   ]
  },
  {
   "cell_type": "markdown",
   "id": "5c97e5e1",
   "metadata": {},
   "source": [
    "## Import modules"
   ]
  },
  {
   "cell_type": "code",
   "execution_count": 1,
   "id": "478c5d3b",
   "metadata": {
    "ExecuteTime": {
     "end_time": "2022-12-01T18:21:37.552801Z",
     "start_time": "2022-12-01T18:21:36.283048Z"
    }
   },
   "outputs": [],
   "source": [
    "import math\n",
    "import random\n",
    "import time\n",
    "import string\n",
    "import warnings\n",
    "warnings.filterwarnings('ignore')\n",
    "\n",
    "import numpy as np\n",
    "import pandas as pd\n",
    "\n",
    "from pylab import rcParams\n",
    "from scipy.io import loadmat\n",
    "import category_encoders as ce\n",
    "\n",
    "import matplotlib\n",
    "import matplotlib.pyplot as plt\n",
    "import seaborn as sns\n",
    "sns.set_style(\"darkgrid\")\n",
    "\n",
    "from sklearn.preprocessing import OneHotEncoder\n",
    "from sklearn.feature_extraction import FeatureHasher\n",
    "from sklearn.model_selection import KFold\n",
    "from pandas.api.types import is_string_dtype, is_numeric_dtype\n",
    "\n",
    "from sklearn.model_selection import cross_val_score\n",
    "from sklearn.model_selection import GridSearchCV\n",
    "from sklearn.model_selection import train_test_split\n",
    "from sklearn.model_selection import RandomizedSearchCV\n",
    "\n",
    "from sklearn.metrics import classification_report\n",
    "from sklearn.metrics import confusion_matrix\n",
    "from sklearn.metrics import recall_score\n",
    "from sklearn.metrics import roc_auc_score\n",
    "from sklearn.metrics import make_scorer\n",
    "from sklearn.metrics import accuracy_score\n",
    "from sklearn.metrics import RocCurveDisplay\n",
    "from sklearn.metrics import mean_absolute_error\n",
    "from sklearn.metrics import mean_squared_error\n",
    "from sklearn.metrics import r2_score"
   ]
  },
  {
   "cell_type": "markdown",
   "id": "7f0146da",
   "metadata": {},
   "source": [
    "# Load datasets"
   ]
  },
  {
   "cell_type": "markdown",
   "id": "2065d2d7",
   "metadata": {},
   "source": [
    "- Bank Marketing Data : 포르투칼 은행의 전화 마케팅 데이터, 전화 마케팅의 성공 여부를 고객의 개인정보를 이용해 예측\n",
    "- 데이터셋 선정 이유는 이진 분류를 목적으로 명확한 평가가 가능하다는 점과, 가장 큰 이유는 데이터셋에 다범주변수를 많이 포함하고 있다는 점에서 CatBoost에 가장 잘 맞는 데이터라고 생각했습니다."
   ]
  },
  {
   "cell_type": "code",
   "execution_count": 2,
   "id": "eba7c23e",
   "metadata": {
    "ExecuteTime": {
     "end_time": "2022-12-01T18:21:37.612601Z",
     "start_time": "2022-12-01T18:21:37.553797Z"
    },
    "scrolled": true
   },
   "outputs": [
    {
     "data": {
      "text/html": [
       "<div>\n",
       "<style scoped>\n",
       "    .dataframe tbody tr th:only-of-type {\n",
       "        vertical-align: middle;\n",
       "    }\n",
       "\n",
       "    .dataframe tbody tr th {\n",
       "        vertical-align: top;\n",
       "    }\n",
       "\n",
       "    .dataframe thead th {\n",
       "        text-align: right;\n",
       "    }\n",
       "</style>\n",
       "<table border=\"1\" class=\"dataframe\">\n",
       "  <thead>\n",
       "    <tr style=\"text-align: right;\">\n",
       "      <th></th>\n",
       "      <th>age</th>\n",
       "      <th>job</th>\n",
       "      <th>marital</th>\n",
       "      <th>education</th>\n",
       "      <th>default</th>\n",
       "      <th>balance</th>\n",
       "      <th>housing</th>\n",
       "      <th>loan</th>\n",
       "      <th>contact</th>\n",
       "      <th>day</th>\n",
       "      <th>month</th>\n",
       "      <th>duration</th>\n",
       "      <th>campaign</th>\n",
       "      <th>pdays</th>\n",
       "      <th>previous</th>\n",
       "      <th>poutcome</th>\n",
       "      <th>y</th>\n",
       "    </tr>\n",
       "  </thead>\n",
       "  <tbody>\n",
       "    <tr>\n",
       "      <th>0</th>\n",
       "      <td>58</td>\n",
       "      <td>management</td>\n",
       "      <td>married</td>\n",
       "      <td>tertiary</td>\n",
       "      <td>no</td>\n",
       "      <td>2143</td>\n",
       "      <td>yes</td>\n",
       "      <td>no</td>\n",
       "      <td>unknown</td>\n",
       "      <td>5</td>\n",
       "      <td>may</td>\n",
       "      <td>261</td>\n",
       "      <td>1</td>\n",
       "      <td>-1</td>\n",
       "      <td>0</td>\n",
       "      <td>unknown</td>\n",
       "      <td>no</td>\n",
       "    </tr>\n",
       "    <tr>\n",
       "      <th>1</th>\n",
       "      <td>44</td>\n",
       "      <td>technician</td>\n",
       "      <td>single</td>\n",
       "      <td>secondary</td>\n",
       "      <td>no</td>\n",
       "      <td>29</td>\n",
       "      <td>yes</td>\n",
       "      <td>no</td>\n",
       "      <td>unknown</td>\n",
       "      <td>5</td>\n",
       "      <td>may</td>\n",
       "      <td>151</td>\n",
       "      <td>1</td>\n",
       "      <td>-1</td>\n",
       "      <td>0</td>\n",
       "      <td>unknown</td>\n",
       "      <td>no</td>\n",
       "    </tr>\n",
       "    <tr>\n",
       "      <th>2</th>\n",
       "      <td>33</td>\n",
       "      <td>entrepreneur</td>\n",
       "      <td>married</td>\n",
       "      <td>secondary</td>\n",
       "      <td>no</td>\n",
       "      <td>2</td>\n",
       "      <td>yes</td>\n",
       "      <td>yes</td>\n",
       "      <td>unknown</td>\n",
       "      <td>5</td>\n",
       "      <td>may</td>\n",
       "      <td>76</td>\n",
       "      <td>1</td>\n",
       "      <td>-1</td>\n",
       "      <td>0</td>\n",
       "      <td>unknown</td>\n",
       "      <td>no</td>\n",
       "    </tr>\n",
       "    <tr>\n",
       "      <th>3</th>\n",
       "      <td>47</td>\n",
       "      <td>blue-collar</td>\n",
       "      <td>married</td>\n",
       "      <td>unknown</td>\n",
       "      <td>no</td>\n",
       "      <td>1506</td>\n",
       "      <td>yes</td>\n",
       "      <td>no</td>\n",
       "      <td>unknown</td>\n",
       "      <td>5</td>\n",
       "      <td>may</td>\n",
       "      <td>92</td>\n",
       "      <td>1</td>\n",
       "      <td>-1</td>\n",
       "      <td>0</td>\n",
       "      <td>unknown</td>\n",
       "      <td>no</td>\n",
       "    </tr>\n",
       "    <tr>\n",
       "      <th>4</th>\n",
       "      <td>33</td>\n",
       "      <td>unknown</td>\n",
       "      <td>single</td>\n",
       "      <td>unknown</td>\n",
       "      <td>no</td>\n",
       "      <td>1</td>\n",
       "      <td>no</td>\n",
       "      <td>no</td>\n",
       "      <td>unknown</td>\n",
       "      <td>5</td>\n",
       "      <td>may</td>\n",
       "      <td>198</td>\n",
       "      <td>1</td>\n",
       "      <td>-1</td>\n",
       "      <td>0</td>\n",
       "      <td>unknown</td>\n",
       "      <td>no</td>\n",
       "    </tr>\n",
       "    <tr>\n",
       "      <th>5</th>\n",
       "      <td>35</td>\n",
       "      <td>management</td>\n",
       "      <td>married</td>\n",
       "      <td>tertiary</td>\n",
       "      <td>no</td>\n",
       "      <td>231</td>\n",
       "      <td>yes</td>\n",
       "      <td>no</td>\n",
       "      <td>unknown</td>\n",
       "      <td>5</td>\n",
       "      <td>may</td>\n",
       "      <td>139</td>\n",
       "      <td>1</td>\n",
       "      <td>-1</td>\n",
       "      <td>0</td>\n",
       "      <td>unknown</td>\n",
       "      <td>no</td>\n",
       "    </tr>\n",
       "    <tr>\n",
       "      <th>6</th>\n",
       "      <td>28</td>\n",
       "      <td>management</td>\n",
       "      <td>single</td>\n",
       "      <td>tertiary</td>\n",
       "      <td>no</td>\n",
       "      <td>447</td>\n",
       "      <td>yes</td>\n",
       "      <td>yes</td>\n",
       "      <td>unknown</td>\n",
       "      <td>5</td>\n",
       "      <td>may</td>\n",
       "      <td>217</td>\n",
       "      <td>1</td>\n",
       "      <td>-1</td>\n",
       "      <td>0</td>\n",
       "      <td>unknown</td>\n",
       "      <td>no</td>\n",
       "    </tr>\n",
       "    <tr>\n",
       "      <th>7</th>\n",
       "      <td>42</td>\n",
       "      <td>entrepreneur</td>\n",
       "      <td>divorced</td>\n",
       "      <td>tertiary</td>\n",
       "      <td>yes</td>\n",
       "      <td>2</td>\n",
       "      <td>yes</td>\n",
       "      <td>no</td>\n",
       "      <td>unknown</td>\n",
       "      <td>5</td>\n",
       "      <td>may</td>\n",
       "      <td>380</td>\n",
       "      <td>1</td>\n",
       "      <td>-1</td>\n",
       "      <td>0</td>\n",
       "      <td>unknown</td>\n",
       "      <td>no</td>\n",
       "    </tr>\n",
       "    <tr>\n",
       "      <th>8</th>\n",
       "      <td>58</td>\n",
       "      <td>retired</td>\n",
       "      <td>married</td>\n",
       "      <td>primary</td>\n",
       "      <td>no</td>\n",
       "      <td>121</td>\n",
       "      <td>yes</td>\n",
       "      <td>no</td>\n",
       "      <td>unknown</td>\n",
       "      <td>5</td>\n",
       "      <td>may</td>\n",
       "      <td>50</td>\n",
       "      <td>1</td>\n",
       "      <td>-1</td>\n",
       "      <td>0</td>\n",
       "      <td>unknown</td>\n",
       "      <td>no</td>\n",
       "    </tr>\n",
       "    <tr>\n",
       "      <th>9</th>\n",
       "      <td>43</td>\n",
       "      <td>technician</td>\n",
       "      <td>single</td>\n",
       "      <td>secondary</td>\n",
       "      <td>no</td>\n",
       "      <td>593</td>\n",
       "      <td>yes</td>\n",
       "      <td>no</td>\n",
       "      <td>unknown</td>\n",
       "      <td>5</td>\n",
       "      <td>may</td>\n",
       "      <td>55</td>\n",
       "      <td>1</td>\n",
       "      <td>-1</td>\n",
       "      <td>0</td>\n",
       "      <td>unknown</td>\n",
       "      <td>no</td>\n",
       "    </tr>\n",
       "  </tbody>\n",
       "</table>\n",
       "</div>"
      ],
      "text/plain": [
       "   age           job   marital  education default  balance housing loan  \\\n",
       "0   58    management   married   tertiary      no     2143     yes   no   \n",
       "1   44    technician    single  secondary      no       29     yes   no   \n",
       "2   33  entrepreneur   married  secondary      no        2     yes  yes   \n",
       "3   47   blue-collar   married    unknown      no     1506     yes   no   \n",
       "4   33       unknown    single    unknown      no        1      no   no   \n",
       "5   35    management   married   tertiary      no      231     yes   no   \n",
       "6   28    management    single   tertiary      no      447     yes  yes   \n",
       "7   42  entrepreneur  divorced   tertiary     yes        2     yes   no   \n",
       "8   58       retired   married    primary      no      121     yes   no   \n",
       "9   43    technician    single  secondary      no      593     yes   no   \n",
       "\n",
       "   contact  day month  duration  campaign  pdays  previous poutcome   y  \n",
       "0  unknown    5   may       261         1     -1         0  unknown  no  \n",
       "1  unknown    5   may       151         1     -1         0  unknown  no  \n",
       "2  unknown    5   may        76         1     -1         0  unknown  no  \n",
       "3  unknown    5   may        92         1     -1         0  unknown  no  \n",
       "4  unknown    5   may       198         1     -1         0  unknown  no  \n",
       "5  unknown    5   may       139         1     -1         0  unknown  no  \n",
       "6  unknown    5   may       217         1     -1         0  unknown  no  \n",
       "7  unknown    5   may       380         1     -1         0  unknown  no  \n",
       "8  unknown    5   may        50         1     -1         0  unknown  no  \n",
       "9  unknown    5   may        55         1     -1         0  unknown  no  "
      ]
     },
     "execution_count": 2,
     "metadata": {},
     "output_type": "execute_result"
    }
   ],
   "source": [
    "csv = pd.read_csv(\"Data_bank-full.csv\", encoding = \"UTF-8-sig\", sep = \";\")\n",
    "csv.head(10)"
   ]
  },
  {
   "cell_type": "code",
   "execution_count": 3,
   "id": "a7b2c896",
   "metadata": {
    "ExecuteTime": {
     "end_time": "2022-12-01T18:21:37.627551Z",
     "start_time": "2022-12-01T18:21:37.613597Z"
    }
   },
   "outputs": [
    {
     "data": {
      "text/html": [
       "<div>\n",
       "<style scoped>\n",
       "    .dataframe tbody tr th:only-of-type {\n",
       "        vertical-align: middle;\n",
       "    }\n",
       "\n",
       "    .dataframe tbody tr th {\n",
       "        vertical-align: top;\n",
       "    }\n",
       "\n",
       "    .dataframe thead th {\n",
       "        text-align: right;\n",
       "    }\n",
       "</style>\n",
       "<table border=\"1\" class=\"dataframe\">\n",
       "  <thead>\n",
       "    <tr style=\"text-align: right;\">\n",
       "      <th></th>\n",
       "      <th>age</th>\n",
       "      <th>job</th>\n",
       "      <th>marital</th>\n",
       "      <th>education</th>\n",
       "      <th>default</th>\n",
       "      <th>balance</th>\n",
       "      <th>housing</th>\n",
       "      <th>loan</th>\n",
       "      <th>contact</th>\n",
       "      <th>duration</th>\n",
       "      <th>campaign</th>\n",
       "      <th>pdays</th>\n",
       "      <th>previous</th>\n",
       "      <th>poutcome</th>\n",
       "      <th>y</th>\n",
       "    </tr>\n",
       "  </thead>\n",
       "  <tbody>\n",
       "    <tr>\n",
       "      <th>0</th>\n",
       "      <td>58</td>\n",
       "      <td>management</td>\n",
       "      <td>married</td>\n",
       "      <td>tertiary</td>\n",
       "      <td>no</td>\n",
       "      <td>2143</td>\n",
       "      <td>yes</td>\n",
       "      <td>no</td>\n",
       "      <td>unknown</td>\n",
       "      <td>261</td>\n",
       "      <td>1</td>\n",
       "      <td>-1</td>\n",
       "      <td>0</td>\n",
       "      <td>unknown</td>\n",
       "      <td>no</td>\n",
       "    </tr>\n",
       "    <tr>\n",
       "      <th>1</th>\n",
       "      <td>44</td>\n",
       "      <td>technician</td>\n",
       "      <td>single</td>\n",
       "      <td>secondary</td>\n",
       "      <td>no</td>\n",
       "      <td>29</td>\n",
       "      <td>yes</td>\n",
       "      <td>no</td>\n",
       "      <td>unknown</td>\n",
       "      <td>151</td>\n",
       "      <td>1</td>\n",
       "      <td>-1</td>\n",
       "      <td>0</td>\n",
       "      <td>unknown</td>\n",
       "      <td>no</td>\n",
       "    </tr>\n",
       "    <tr>\n",
       "      <th>2</th>\n",
       "      <td>33</td>\n",
       "      <td>entrepreneur</td>\n",
       "      <td>married</td>\n",
       "      <td>secondary</td>\n",
       "      <td>no</td>\n",
       "      <td>2</td>\n",
       "      <td>yes</td>\n",
       "      <td>yes</td>\n",
       "      <td>unknown</td>\n",
       "      <td>76</td>\n",
       "      <td>1</td>\n",
       "      <td>-1</td>\n",
       "      <td>0</td>\n",
       "      <td>unknown</td>\n",
       "      <td>no</td>\n",
       "    </tr>\n",
       "    <tr>\n",
       "      <th>3</th>\n",
       "      <td>47</td>\n",
       "      <td>blue-collar</td>\n",
       "      <td>married</td>\n",
       "      <td>unknown</td>\n",
       "      <td>no</td>\n",
       "      <td>1506</td>\n",
       "      <td>yes</td>\n",
       "      <td>no</td>\n",
       "      <td>unknown</td>\n",
       "      <td>92</td>\n",
       "      <td>1</td>\n",
       "      <td>-1</td>\n",
       "      <td>0</td>\n",
       "      <td>unknown</td>\n",
       "      <td>no</td>\n",
       "    </tr>\n",
       "    <tr>\n",
       "      <th>4</th>\n",
       "      <td>33</td>\n",
       "      <td>unknown</td>\n",
       "      <td>single</td>\n",
       "      <td>unknown</td>\n",
       "      <td>no</td>\n",
       "      <td>1</td>\n",
       "      <td>no</td>\n",
       "      <td>no</td>\n",
       "      <td>unknown</td>\n",
       "      <td>198</td>\n",
       "      <td>1</td>\n",
       "      <td>-1</td>\n",
       "      <td>0</td>\n",
       "      <td>unknown</td>\n",
       "      <td>no</td>\n",
       "    </tr>\n",
       "  </tbody>\n",
       "</table>\n",
       "</div>"
      ],
      "text/plain": [
       "   age           job  marital  education default  balance housing loan  \\\n",
       "0   58    management  married   tertiary      no     2143     yes   no   \n",
       "1   44    technician   single  secondary      no       29     yes   no   \n",
       "2   33  entrepreneur  married  secondary      no        2     yes  yes   \n",
       "3   47   blue-collar  married    unknown      no     1506     yes   no   \n",
       "4   33       unknown   single    unknown      no        1      no   no   \n",
       "\n",
       "   contact  duration  campaign  pdays  previous poutcome   y  \n",
       "0  unknown       261         1     -1         0  unknown  no  \n",
       "1  unknown       151         1     -1         0  unknown  no  \n",
       "2  unknown        76         1     -1         0  unknown  no  \n",
       "3  unknown        92         1     -1         0  unknown  no  \n",
       "4  unknown       198         1     -1         0  unknown  no  "
      ]
     },
     "execution_count": 3,
     "metadata": {},
     "output_type": "execute_result"
    }
   ],
   "source": [
    "csv = csv.drop(['day', 'month'], axis=1)\n",
    "csv.head()"
   ]
  },
  {
   "cell_type": "markdown",
   "id": "2b239b3f",
   "metadata": {},
   "source": [
    "- 데이터는 다음과 같이 구성되어 있습니다. (불필요한 변수인 day, month 는 제외하겠습니다)\n",
    "    - 명목형 변수 : job, marital, education, default, housing, loan, contact, poutcome\n",
    "    - 수치형 변수 : age, balance, duration, campaign, pdays, previous"
   ]
  },
  {
   "cell_type": "code",
   "execution_count": 4,
   "id": "828df209",
   "metadata": {
    "ExecuteTime": {
     "end_time": "2022-12-01T18:21:37.657451Z",
     "start_time": "2022-12-01T18:21:37.628548Z"
    }
   },
   "outputs": [
    {
     "data": {
      "text/html": [
       "<div>\n",
       "<style scoped>\n",
       "    .dataframe tbody tr th:only-of-type {\n",
       "        vertical-align: middle;\n",
       "    }\n",
       "\n",
       "    .dataframe tbody tr th {\n",
       "        vertical-align: top;\n",
       "    }\n",
       "\n",
       "    .dataframe thead th {\n",
       "        text-align: right;\n",
       "    }\n",
       "</style>\n",
       "<table border=\"1\" class=\"dataframe\">\n",
       "  <thead>\n",
       "    <tr style=\"text-align: right;\">\n",
       "      <th></th>\n",
       "      <th>age</th>\n",
       "      <th>balance</th>\n",
       "      <th>duration</th>\n",
       "      <th>campaign</th>\n",
       "      <th>pdays</th>\n",
       "      <th>previous</th>\n",
       "    </tr>\n",
       "  </thead>\n",
       "  <tbody>\n",
       "    <tr>\n",
       "      <th>count</th>\n",
       "      <td>45211.000000</td>\n",
       "      <td>45211.000000</td>\n",
       "      <td>45211.000000</td>\n",
       "      <td>45211.000000</td>\n",
       "      <td>45211.000000</td>\n",
       "      <td>45211.000000</td>\n",
       "    </tr>\n",
       "    <tr>\n",
       "      <th>mean</th>\n",
       "      <td>40.936210</td>\n",
       "      <td>1362.272058</td>\n",
       "      <td>258.163080</td>\n",
       "      <td>2.763841</td>\n",
       "      <td>40.197828</td>\n",
       "      <td>0.580323</td>\n",
       "    </tr>\n",
       "    <tr>\n",
       "      <th>std</th>\n",
       "      <td>10.618762</td>\n",
       "      <td>3044.765829</td>\n",
       "      <td>257.527812</td>\n",
       "      <td>3.098021</td>\n",
       "      <td>100.128746</td>\n",
       "      <td>2.303441</td>\n",
       "    </tr>\n",
       "    <tr>\n",
       "      <th>min</th>\n",
       "      <td>18.000000</td>\n",
       "      <td>-8019.000000</td>\n",
       "      <td>0.000000</td>\n",
       "      <td>1.000000</td>\n",
       "      <td>-1.000000</td>\n",
       "      <td>0.000000</td>\n",
       "    </tr>\n",
       "    <tr>\n",
       "      <th>25%</th>\n",
       "      <td>33.000000</td>\n",
       "      <td>72.000000</td>\n",
       "      <td>103.000000</td>\n",
       "      <td>1.000000</td>\n",
       "      <td>-1.000000</td>\n",
       "      <td>0.000000</td>\n",
       "    </tr>\n",
       "    <tr>\n",
       "      <th>50%</th>\n",
       "      <td>39.000000</td>\n",
       "      <td>448.000000</td>\n",
       "      <td>180.000000</td>\n",
       "      <td>2.000000</td>\n",
       "      <td>-1.000000</td>\n",
       "      <td>0.000000</td>\n",
       "    </tr>\n",
       "    <tr>\n",
       "      <th>75%</th>\n",
       "      <td>48.000000</td>\n",
       "      <td>1428.000000</td>\n",
       "      <td>319.000000</td>\n",
       "      <td>3.000000</td>\n",
       "      <td>-1.000000</td>\n",
       "      <td>0.000000</td>\n",
       "    </tr>\n",
       "    <tr>\n",
       "      <th>max</th>\n",
       "      <td>95.000000</td>\n",
       "      <td>102127.000000</td>\n",
       "      <td>4918.000000</td>\n",
       "      <td>63.000000</td>\n",
       "      <td>871.000000</td>\n",
       "      <td>275.000000</td>\n",
       "    </tr>\n",
       "  </tbody>\n",
       "</table>\n",
       "</div>"
      ],
      "text/plain": [
       "                age        balance      duration      campaign         pdays  \\\n",
       "count  45211.000000   45211.000000  45211.000000  45211.000000  45211.000000   \n",
       "mean      40.936210    1362.272058    258.163080      2.763841     40.197828   \n",
       "std       10.618762    3044.765829    257.527812      3.098021    100.128746   \n",
       "min       18.000000   -8019.000000      0.000000      1.000000     -1.000000   \n",
       "25%       33.000000      72.000000    103.000000      1.000000     -1.000000   \n",
       "50%       39.000000     448.000000    180.000000      2.000000     -1.000000   \n",
       "75%       48.000000    1428.000000    319.000000      3.000000     -1.000000   \n",
       "max       95.000000  102127.000000   4918.000000     63.000000    871.000000   \n",
       "\n",
       "           previous  \n",
       "count  45211.000000  \n",
       "mean       0.580323  \n",
       "std        2.303441  \n",
       "min        0.000000  \n",
       "25%        0.000000  \n",
       "50%        0.000000  \n",
       "75%        0.000000  \n",
       "max      275.000000  "
      ]
     },
     "execution_count": 4,
     "metadata": {},
     "output_type": "execute_result"
    }
   ],
   "source": [
    "csv.describe()"
   ]
  },
  {
   "cell_type": "markdown",
   "id": "9d40d680",
   "metadata": {},
   "source": [
    "- 다음으로는 범주형 변수들에 대한 정리입니다.\n",
    "- 범주형 변수는 총 8개로, {직업, 혼인여부, 교육 수준, 신용카드 유무(default), 주택융자 여부, 개인대출 여부, 연락 유형, 이전 마케팅 캠페인 결과}가 있습니다.\n",
    "- 각 column별로 {job: 12개, marital: 3개, education: 4개, default: 2개, housing: 2개, loan: 2개, contact: 3개, poutcome: 4개}의 범주로 구성되어있습니다."
   ]
  },
  {
   "cell_type": "code",
   "execution_count": 5,
   "id": "6c03a26f",
   "metadata": {
    "ExecuteTime": {
     "end_time": "2022-12-01T18:21:37.672401Z",
     "start_time": "2022-12-01T18:21:37.658447Z"
    }
   },
   "outputs": [
    {
     "name": "stdout",
     "output_type": "stream",
     "text": [
      "12\n"
     ]
    },
    {
     "data": {
      "text/plain": [
       "blue-collar      9732\n",
       "management       9458\n",
       "technician       7597\n",
       "admin.           5171\n",
       "services         4154\n",
       "retired          2264\n",
       "self-employed    1579\n",
       "entrepreneur     1487\n",
       "unemployed       1303\n",
       "housemaid        1240\n",
       "student           938\n",
       "unknown           288\n",
       "Name: job, dtype: int64"
      ]
     },
     "execution_count": 5,
     "metadata": {},
     "output_type": "execute_result"
    }
   ],
   "source": [
    "print(len(csv['job'].unique()))\n",
    "csv['job'].value_counts()"
   ]
  },
  {
   "cell_type": "code",
   "execution_count": 6,
   "id": "a7c00f0f",
   "metadata": {
    "ExecuteTime": {
     "end_time": "2022-12-01T18:21:37.687351Z",
     "start_time": "2022-12-01T18:21:37.673397Z"
    }
   },
   "outputs": [
    {
     "name": "stdout",
     "output_type": "stream",
     "text": [
      "3\n"
     ]
    },
    {
     "data": {
      "text/plain": [
       "married     27214\n",
       "single      12790\n",
       "divorced     5207\n",
       "Name: marital, dtype: int64"
      ]
     },
     "execution_count": 6,
     "metadata": {},
     "output_type": "execute_result"
    }
   ],
   "source": [
    "print(len(csv['marital'].unique()))\n",
    "csv['marital'].value_counts()"
   ]
  },
  {
   "cell_type": "code",
   "execution_count": 7,
   "id": "25165451",
   "metadata": {
    "ExecuteTime": {
     "end_time": "2022-12-01T18:21:37.702301Z",
     "start_time": "2022-12-01T18:21:37.688347Z"
    }
   },
   "outputs": [
    {
     "name": "stdout",
     "output_type": "stream",
     "text": [
      "4\n"
     ]
    },
    {
     "data": {
      "text/plain": [
       "secondary    23202\n",
       "tertiary     13301\n",
       "primary       6851\n",
       "unknown       1857\n",
       "Name: education, dtype: int64"
      ]
     },
     "execution_count": 7,
     "metadata": {},
     "output_type": "execute_result"
    }
   ],
   "source": [
    "print(len(csv['education'].unique()))\n",
    "csv['education'].value_counts()"
   ]
  },
  {
   "cell_type": "code",
   "execution_count": 8,
   "id": "3d4d38a3",
   "metadata": {
    "ExecuteTime": {
     "end_time": "2022-12-01T18:21:37.717250Z",
     "start_time": "2022-12-01T18:21:37.703297Z"
    }
   },
   "outputs": [
    {
     "name": "stdout",
     "output_type": "stream",
     "text": [
      "2\n"
     ]
    },
    {
     "data": {
      "text/plain": [
       "no     44396\n",
       "yes      815\n",
       "Name: default, dtype: int64"
      ]
     },
     "execution_count": 8,
     "metadata": {},
     "output_type": "execute_result"
    }
   ],
   "source": [
    "print(len(csv['default'].unique()))\n",
    "csv['default'].value_counts()"
   ]
  },
  {
   "cell_type": "code",
   "execution_count": 9,
   "id": "7fa92562",
   "metadata": {
    "ExecuteTime": {
     "end_time": "2022-12-01T18:21:37.732201Z",
     "start_time": "2022-12-01T18:21:37.719244Z"
    }
   },
   "outputs": [
    {
     "name": "stdout",
     "output_type": "stream",
     "text": [
      "2\n"
     ]
    },
    {
     "data": {
      "text/plain": [
       "yes    25130\n",
       "no     20081\n",
       "Name: housing, dtype: int64"
      ]
     },
     "execution_count": 9,
     "metadata": {},
     "output_type": "execute_result"
    }
   ],
   "source": [
    "print(len(csv['housing'].unique()))\n",
    "csv['housing'].value_counts()"
   ]
  },
  {
   "cell_type": "code",
   "execution_count": 10,
   "id": "de5c1504",
   "metadata": {
    "ExecuteTime": {
     "end_time": "2022-12-01T18:21:37.747151Z",
     "start_time": "2022-12-01T18:21:37.733198Z"
    }
   },
   "outputs": [
    {
     "name": "stdout",
     "output_type": "stream",
     "text": [
      "2\n"
     ]
    },
    {
     "data": {
      "text/plain": [
       "no     37967\n",
       "yes     7244\n",
       "Name: loan, dtype: int64"
      ]
     },
     "execution_count": 10,
     "metadata": {},
     "output_type": "execute_result"
    }
   ],
   "source": [
    "print(len(csv['loan'].unique()))\n",
    "csv['loan'].value_counts()"
   ]
  },
  {
   "cell_type": "code",
   "execution_count": 11,
   "id": "c5f433fe",
   "metadata": {
    "ExecuteTime": {
     "end_time": "2022-12-01T18:21:37.762100Z",
     "start_time": "2022-12-01T18:21:37.748147Z"
    }
   },
   "outputs": [
    {
     "name": "stdout",
     "output_type": "stream",
     "text": [
      "3\n"
     ]
    },
    {
     "data": {
      "text/plain": [
       "cellular     29285\n",
       "unknown      13020\n",
       "telephone     2906\n",
       "Name: contact, dtype: int64"
      ]
     },
     "execution_count": 11,
     "metadata": {},
     "output_type": "execute_result"
    }
   ],
   "source": [
    "print(len(csv['contact'].unique()))\n",
    "csv['contact'].value_counts()"
   ]
  },
  {
   "cell_type": "code",
   "execution_count": 12,
   "id": "aa290582",
   "metadata": {
    "ExecuteTime": {
     "end_time": "2022-12-01T18:21:37.777051Z",
     "start_time": "2022-12-01T18:21:37.763097Z"
    }
   },
   "outputs": [
    {
     "name": "stdout",
     "output_type": "stream",
     "text": [
      "4\n"
     ]
    },
    {
     "data": {
      "text/plain": [
       "unknown    36959\n",
       "failure     4901\n",
       "other       1840\n",
       "success     1511\n",
       "Name: poutcome, dtype: int64"
      ]
     },
     "execution_count": 12,
     "metadata": {},
     "output_type": "execute_result"
    }
   ],
   "source": [
    "print(len(csv['poutcome'].unique()))\n",
    "csv['poutcome'].value_counts()"
   ]
  },
  {
   "cell_type": "code",
   "execution_count": 13,
   "id": "605e8d92",
   "metadata": {
    "ExecuteTime": {
     "end_time": "2022-12-01T18:21:37.896651Z",
     "start_time": "2022-12-01T18:21:37.778048Z"
    }
   },
   "outputs": [],
   "source": [
    "data = pd.DataFrame()\n",
    "\n",
    "for i, j in enumerate(csv.iloc[:, : -1].dtypes.items()):\n",
    "    if j[1] == \"int64\":\n",
    "        data = pd.concat([data, csv.iloc[:, i].astype(float)], axis = 1, sort = False)\n",
    "    else:\n",
    "#         dummies = pd.get_dummies(csv.iloc[:, i])\n",
    "#         dummies.columns = [j[0] + \"_\" + k for k in dummies.columns]\n",
    "        data = pd.concat([data, csv.iloc[:, i]], axis = 1, sort = False)"
   ]
  },
  {
   "cell_type": "code",
   "execution_count": 14,
   "id": "2a61ace4",
   "metadata": {
    "ExecuteTime": {
     "end_time": "2022-12-01T18:21:37.911601Z",
     "start_time": "2022-12-01T18:21:37.897648Z"
    }
   },
   "outputs": [],
   "source": [
    "data.loc[csv.y == \"yes\", \"y\"] = 1.0\n",
    "data.loc[csv.y == \"no\", \"y\"] = -1.0\n",
    "data.y = data.y.astype(float)"
   ]
  },
  {
   "cell_type": "code",
   "execution_count": 15,
   "id": "954c6800",
   "metadata": {
    "ExecuteTime": {
     "end_time": "2022-12-01T18:21:37.926551Z",
     "start_time": "2022-12-01T18:21:37.912598Z"
    }
   },
   "outputs": [
    {
     "data": {
      "text/html": [
       "<div>\n",
       "<style scoped>\n",
       "    .dataframe tbody tr th:only-of-type {\n",
       "        vertical-align: middle;\n",
       "    }\n",
       "\n",
       "    .dataframe tbody tr th {\n",
       "        vertical-align: top;\n",
       "    }\n",
       "\n",
       "    .dataframe thead th {\n",
       "        text-align: right;\n",
       "    }\n",
       "</style>\n",
       "<table border=\"1\" class=\"dataframe\">\n",
       "  <thead>\n",
       "    <tr style=\"text-align: right;\">\n",
       "      <th></th>\n",
       "      <th>age</th>\n",
       "      <th>job</th>\n",
       "      <th>marital</th>\n",
       "      <th>education</th>\n",
       "      <th>default</th>\n",
       "      <th>balance</th>\n",
       "      <th>housing</th>\n",
       "      <th>loan</th>\n",
       "      <th>contact</th>\n",
       "      <th>duration</th>\n",
       "      <th>campaign</th>\n",
       "      <th>pdays</th>\n",
       "      <th>previous</th>\n",
       "      <th>poutcome</th>\n",
       "      <th>y</th>\n",
       "    </tr>\n",
       "  </thead>\n",
       "  <tbody>\n",
       "    <tr>\n",
       "      <th>0</th>\n",
       "      <td>58.0</td>\n",
       "      <td>management</td>\n",
       "      <td>married</td>\n",
       "      <td>tertiary</td>\n",
       "      <td>no</td>\n",
       "      <td>2143.0</td>\n",
       "      <td>yes</td>\n",
       "      <td>no</td>\n",
       "      <td>unknown</td>\n",
       "      <td>261.0</td>\n",
       "      <td>1.0</td>\n",
       "      <td>-1.0</td>\n",
       "      <td>0.0</td>\n",
       "      <td>unknown</td>\n",
       "      <td>-1.0</td>\n",
       "    </tr>\n",
       "    <tr>\n",
       "      <th>1</th>\n",
       "      <td>44.0</td>\n",
       "      <td>technician</td>\n",
       "      <td>single</td>\n",
       "      <td>secondary</td>\n",
       "      <td>no</td>\n",
       "      <td>29.0</td>\n",
       "      <td>yes</td>\n",
       "      <td>no</td>\n",
       "      <td>unknown</td>\n",
       "      <td>151.0</td>\n",
       "      <td>1.0</td>\n",
       "      <td>-1.0</td>\n",
       "      <td>0.0</td>\n",
       "      <td>unknown</td>\n",
       "      <td>-1.0</td>\n",
       "    </tr>\n",
       "    <tr>\n",
       "      <th>2</th>\n",
       "      <td>33.0</td>\n",
       "      <td>entrepreneur</td>\n",
       "      <td>married</td>\n",
       "      <td>secondary</td>\n",
       "      <td>no</td>\n",
       "      <td>2.0</td>\n",
       "      <td>yes</td>\n",
       "      <td>yes</td>\n",
       "      <td>unknown</td>\n",
       "      <td>76.0</td>\n",
       "      <td>1.0</td>\n",
       "      <td>-1.0</td>\n",
       "      <td>0.0</td>\n",
       "      <td>unknown</td>\n",
       "      <td>-1.0</td>\n",
       "    </tr>\n",
       "    <tr>\n",
       "      <th>3</th>\n",
       "      <td>47.0</td>\n",
       "      <td>blue-collar</td>\n",
       "      <td>married</td>\n",
       "      <td>unknown</td>\n",
       "      <td>no</td>\n",
       "      <td>1506.0</td>\n",
       "      <td>yes</td>\n",
       "      <td>no</td>\n",
       "      <td>unknown</td>\n",
       "      <td>92.0</td>\n",
       "      <td>1.0</td>\n",
       "      <td>-1.0</td>\n",
       "      <td>0.0</td>\n",
       "      <td>unknown</td>\n",
       "      <td>-1.0</td>\n",
       "    </tr>\n",
       "    <tr>\n",
       "      <th>4</th>\n",
       "      <td>33.0</td>\n",
       "      <td>unknown</td>\n",
       "      <td>single</td>\n",
       "      <td>unknown</td>\n",
       "      <td>no</td>\n",
       "      <td>1.0</td>\n",
       "      <td>no</td>\n",
       "      <td>no</td>\n",
       "      <td>unknown</td>\n",
       "      <td>198.0</td>\n",
       "      <td>1.0</td>\n",
       "      <td>-1.0</td>\n",
       "      <td>0.0</td>\n",
       "      <td>unknown</td>\n",
       "      <td>-1.0</td>\n",
       "    </tr>\n",
       "    <tr>\n",
       "      <th>5</th>\n",
       "      <td>35.0</td>\n",
       "      <td>management</td>\n",
       "      <td>married</td>\n",
       "      <td>tertiary</td>\n",
       "      <td>no</td>\n",
       "      <td>231.0</td>\n",
       "      <td>yes</td>\n",
       "      <td>no</td>\n",
       "      <td>unknown</td>\n",
       "      <td>139.0</td>\n",
       "      <td>1.0</td>\n",
       "      <td>-1.0</td>\n",
       "      <td>0.0</td>\n",
       "      <td>unknown</td>\n",
       "      <td>-1.0</td>\n",
       "    </tr>\n",
       "    <tr>\n",
       "      <th>6</th>\n",
       "      <td>28.0</td>\n",
       "      <td>management</td>\n",
       "      <td>single</td>\n",
       "      <td>tertiary</td>\n",
       "      <td>no</td>\n",
       "      <td>447.0</td>\n",
       "      <td>yes</td>\n",
       "      <td>yes</td>\n",
       "      <td>unknown</td>\n",
       "      <td>217.0</td>\n",
       "      <td>1.0</td>\n",
       "      <td>-1.0</td>\n",
       "      <td>0.0</td>\n",
       "      <td>unknown</td>\n",
       "      <td>-1.0</td>\n",
       "    </tr>\n",
       "    <tr>\n",
       "      <th>7</th>\n",
       "      <td>42.0</td>\n",
       "      <td>entrepreneur</td>\n",
       "      <td>divorced</td>\n",
       "      <td>tertiary</td>\n",
       "      <td>yes</td>\n",
       "      <td>2.0</td>\n",
       "      <td>yes</td>\n",
       "      <td>no</td>\n",
       "      <td>unknown</td>\n",
       "      <td>380.0</td>\n",
       "      <td>1.0</td>\n",
       "      <td>-1.0</td>\n",
       "      <td>0.0</td>\n",
       "      <td>unknown</td>\n",
       "      <td>-1.0</td>\n",
       "    </tr>\n",
       "    <tr>\n",
       "      <th>8</th>\n",
       "      <td>58.0</td>\n",
       "      <td>retired</td>\n",
       "      <td>married</td>\n",
       "      <td>primary</td>\n",
       "      <td>no</td>\n",
       "      <td>121.0</td>\n",
       "      <td>yes</td>\n",
       "      <td>no</td>\n",
       "      <td>unknown</td>\n",
       "      <td>50.0</td>\n",
       "      <td>1.0</td>\n",
       "      <td>-1.0</td>\n",
       "      <td>0.0</td>\n",
       "      <td>unknown</td>\n",
       "      <td>-1.0</td>\n",
       "    </tr>\n",
       "    <tr>\n",
       "      <th>9</th>\n",
       "      <td>43.0</td>\n",
       "      <td>technician</td>\n",
       "      <td>single</td>\n",
       "      <td>secondary</td>\n",
       "      <td>no</td>\n",
       "      <td>593.0</td>\n",
       "      <td>yes</td>\n",
       "      <td>no</td>\n",
       "      <td>unknown</td>\n",
       "      <td>55.0</td>\n",
       "      <td>1.0</td>\n",
       "      <td>-1.0</td>\n",
       "      <td>0.0</td>\n",
       "      <td>unknown</td>\n",
       "      <td>-1.0</td>\n",
       "    </tr>\n",
       "  </tbody>\n",
       "</table>\n",
       "</div>"
      ],
      "text/plain": [
       "    age           job   marital  education default  balance housing loan  \\\n",
       "0  58.0    management   married   tertiary      no   2143.0     yes   no   \n",
       "1  44.0    technician    single  secondary      no     29.0     yes   no   \n",
       "2  33.0  entrepreneur   married  secondary      no      2.0     yes  yes   \n",
       "3  47.0   blue-collar   married    unknown      no   1506.0     yes   no   \n",
       "4  33.0       unknown    single    unknown      no      1.0      no   no   \n",
       "5  35.0    management   married   tertiary      no    231.0     yes   no   \n",
       "6  28.0    management    single   tertiary      no    447.0     yes  yes   \n",
       "7  42.0  entrepreneur  divorced   tertiary     yes      2.0     yes   no   \n",
       "8  58.0       retired   married    primary      no    121.0     yes   no   \n",
       "9  43.0    technician    single  secondary      no    593.0     yes   no   \n",
       "\n",
       "   contact  duration  campaign  pdays  previous poutcome    y  \n",
       "0  unknown     261.0       1.0   -1.0       0.0  unknown -1.0  \n",
       "1  unknown     151.0       1.0   -1.0       0.0  unknown -1.0  \n",
       "2  unknown      76.0       1.0   -1.0       0.0  unknown -1.0  \n",
       "3  unknown      92.0       1.0   -1.0       0.0  unknown -1.0  \n",
       "4  unknown     198.0       1.0   -1.0       0.0  unknown -1.0  \n",
       "5  unknown     139.0       1.0   -1.0       0.0  unknown -1.0  \n",
       "6  unknown     217.0       1.0   -1.0       0.0  unknown -1.0  \n",
       "7  unknown     380.0       1.0   -1.0       0.0  unknown -1.0  \n",
       "8  unknown      50.0       1.0   -1.0       0.0  unknown -1.0  \n",
       "9  unknown      55.0       1.0   -1.0       0.0  unknown -1.0  "
      ]
     },
     "execution_count": 15,
     "metadata": {},
     "output_type": "execute_result"
    }
   ],
   "source": [
    "data.head(10)"
   ]
  },
  {
   "cell_type": "code",
   "execution_count": 16,
   "id": "5c3e170e",
   "metadata": {
    "ExecuteTime": {
     "end_time": "2022-12-01T18:21:37.941501Z",
     "start_time": "2022-12-01T18:21:37.927548Z"
    }
   },
   "outputs": [],
   "source": [
    "# target 설정\n",
    "target = data['y']\n",
    "train = data.drop('y', axis = 1)"
   ]
  },
  {
   "cell_type": "code",
   "execution_count": 17,
   "id": "e3b21625",
   "metadata": {
    "ExecuteTime": {
     "end_time": "2022-12-01T18:21:38.105951Z",
     "start_time": "2022-12-01T18:21:37.942497Z"
    }
   },
   "outputs": [],
   "source": [
    "# Define catboost encoder\n",
    "cbe_encoder = ce.cat_boost.CatBoostEncoder()\n",
    "  \n",
    "# Fit encoder and transform the features\n",
    "cbe_encoder.fit(train, target)\n",
    "train_cbe = cbe_encoder.transform(train)"
   ]
  },
  {
   "cell_type": "code",
   "execution_count": 18,
   "id": "3526f92e",
   "metadata": {
    "ExecuteTime": {
     "end_time": "2022-12-01T18:21:38.135850Z",
     "start_time": "2022-12-01T18:21:38.106948Z"
    }
   },
   "outputs": [
    {
     "data": {
      "text/html": [
       "<div>\n",
       "<style scoped>\n",
       "    .dataframe tbody tr th:only-of-type {\n",
       "        vertical-align: middle;\n",
       "    }\n",
       "\n",
       "    .dataframe tbody tr th {\n",
       "        vertical-align: top;\n",
       "    }\n",
       "\n",
       "    .dataframe thead th {\n",
       "        text-align: right;\n",
       "    }\n",
       "</style>\n",
       "<table border=\"1\" class=\"dataframe\">\n",
       "  <thead>\n",
       "    <tr style=\"text-align: right;\">\n",
       "      <th></th>\n",
       "      <th>age</th>\n",
       "      <th>job</th>\n",
       "      <th>marital</th>\n",
       "      <th>education</th>\n",
       "      <th>default</th>\n",
       "      <th>balance</th>\n",
       "      <th>housing</th>\n",
       "      <th>loan</th>\n",
       "      <th>contact</th>\n",
       "      <th>duration</th>\n",
       "      <th>campaign</th>\n",
       "      <th>pdays</th>\n",
       "      <th>previous</th>\n",
       "      <th>poutcome</th>\n",
       "      <th>y</th>\n",
       "    </tr>\n",
       "  </thead>\n",
       "  <tbody>\n",
       "    <tr>\n",
       "      <th>0</th>\n",
       "      <td>58.0</td>\n",
       "      <td>-0.724893</td>\n",
       "      <td>-0.797530</td>\n",
       "      <td>-0.699877</td>\n",
       "      <td>-0.764078</td>\n",
       "      <td>2143.0</td>\n",
       "      <td>-0.845998</td>\n",
       "      <td>-0.746886</td>\n",
       "      <td>-0.918575</td>\n",
       "      <td>261.0</td>\n",
       "      <td>1.0</td>\n",
       "      <td>-1.0</td>\n",
       "      <td>0.0</td>\n",
       "      <td>-0.816769</td>\n",
       "      <td>-1.0</td>\n",
       "    </tr>\n",
       "    <tr>\n",
       "      <th>1</th>\n",
       "      <td>44.0</td>\n",
       "      <td>-0.778858</td>\n",
       "      <td>-0.701022</td>\n",
       "      <td>-0.788810</td>\n",
       "      <td>-0.764078</td>\n",
       "      <td>29.0</td>\n",
       "      <td>-0.845998</td>\n",
       "      <td>-0.746886</td>\n",
       "      <td>-0.918575</td>\n",
       "      <td>151.0</td>\n",
       "      <td>1.0</td>\n",
       "      <td>-1.0</td>\n",
       "      <td>0.0</td>\n",
       "      <td>-0.816769</td>\n",
       "      <td>-1.0</td>\n",
       "    </tr>\n",
       "    <tr>\n",
       "      <th>2</th>\n",
       "      <td>33.0</td>\n",
       "      <td>-0.834520</td>\n",
       "      <td>-0.797530</td>\n",
       "      <td>-0.788810</td>\n",
       "      <td>-0.764078</td>\n",
       "      <td>2.0</td>\n",
       "      <td>-0.845998</td>\n",
       "      <td>-0.866358</td>\n",
       "      <td>-0.918575</td>\n",
       "      <td>76.0</td>\n",
       "      <td>1.0</td>\n",
       "      <td>-1.0</td>\n",
       "      <td>0.0</td>\n",
       "      <td>-0.816769</td>\n",
       "      <td>-1.0</td>\n",
       "    </tr>\n",
       "    <tr>\n",
       "      <th>3</th>\n",
       "      <td>47.0</td>\n",
       "      <td>-0.854492</td>\n",
       "      <td>-0.797530</td>\n",
       "      <td>-0.728615</td>\n",
       "      <td>-0.764078</td>\n",
       "      <td>1506.0</td>\n",
       "      <td>-0.845998</td>\n",
       "      <td>-0.746886</td>\n",
       "      <td>-0.918575</td>\n",
       "      <td>92.0</td>\n",
       "      <td>1.0</td>\n",
       "      <td>-1.0</td>\n",
       "      <td>0.0</td>\n",
       "      <td>-0.816769</td>\n",
       "      <td>-1.0</td>\n",
       "    </tr>\n",
       "    <tr>\n",
       "      <th>4</th>\n",
       "      <td>33.0</td>\n",
       "      <td>-0.763896</td>\n",
       "      <td>-0.701022</td>\n",
       "      <td>-0.728615</td>\n",
       "      <td>-0.764078</td>\n",
       "      <td>1.0</td>\n",
       "      <td>-0.665958</td>\n",
       "      <td>-0.746886</td>\n",
       "      <td>-0.918575</td>\n",
       "      <td>198.0</td>\n",
       "      <td>1.0</td>\n",
       "      <td>-1.0</td>\n",
       "      <td>0.0</td>\n",
       "      <td>-0.816769</td>\n",
       "      <td>-1.0</td>\n",
       "    </tr>\n",
       "    <tr>\n",
       "      <th>...</th>\n",
       "      <td>...</td>\n",
       "      <td>...</td>\n",
       "      <td>...</td>\n",
       "      <td>...</td>\n",
       "      <td>...</td>\n",
       "      <td>...</td>\n",
       "      <td>...</td>\n",
       "      <td>...</td>\n",
       "      <td>...</td>\n",
       "      <td>...</td>\n",
       "      <td>...</td>\n",
       "      <td>...</td>\n",
       "      <td>...</td>\n",
       "      <td>...</td>\n",
       "      <td>...</td>\n",
       "    </tr>\n",
       "    <tr>\n",
       "      <th>45206</th>\n",
       "      <td>51.0</td>\n",
       "      <td>-0.778858</td>\n",
       "      <td>-0.797530</td>\n",
       "      <td>-0.699877</td>\n",
       "      <td>-0.764078</td>\n",
       "      <td>825.0</td>\n",
       "      <td>-0.665958</td>\n",
       "      <td>-0.746886</td>\n",
       "      <td>-0.701624</td>\n",
       "      <td>977.0</td>\n",
       "      <td>3.0</td>\n",
       "      <td>-1.0</td>\n",
       "      <td>0.0</td>\n",
       "      <td>-0.816769</td>\n",
       "      <td>1.0</td>\n",
       "    </tr>\n",
       "    <tr>\n",
       "      <th>45207</th>\n",
       "      <td>71.0</td>\n",
       "      <td>-0.544268</td>\n",
       "      <td>-0.761092</td>\n",
       "      <td>-0.827461</td>\n",
       "      <td>-0.764078</td>\n",
       "      <td>1729.0</td>\n",
       "      <td>-0.665958</td>\n",
       "      <td>-0.746886</td>\n",
       "      <td>-0.701624</td>\n",
       "      <td>456.0</td>\n",
       "      <td>2.0</td>\n",
       "      <td>-1.0</td>\n",
       "      <td>0.0</td>\n",
       "      <td>-0.816769</td>\n",
       "      <td>1.0</td>\n",
       "    </tr>\n",
       "    <tr>\n",
       "      <th>45208</th>\n",
       "      <td>72.0</td>\n",
       "      <td>-0.544268</td>\n",
       "      <td>-0.797530</td>\n",
       "      <td>-0.788810</td>\n",
       "      <td>-0.764078</td>\n",
       "      <td>5715.0</td>\n",
       "      <td>-0.665958</td>\n",
       "      <td>-0.746886</td>\n",
       "      <td>-0.701624</td>\n",
       "      <td>1127.0</td>\n",
       "      <td>5.0</td>\n",
       "      <td>184.0</td>\n",
       "      <td>3.0</td>\n",
       "      <td>0.293806</td>\n",
       "      <td>1.0</td>\n",
       "    </tr>\n",
       "    <tr>\n",
       "      <th>45209</th>\n",
       "      <td>57.0</td>\n",
       "      <td>-0.854492</td>\n",
       "      <td>-0.797530</td>\n",
       "      <td>-0.788810</td>\n",
       "      <td>-0.764078</td>\n",
       "      <td>668.0</td>\n",
       "      <td>-0.665958</td>\n",
       "      <td>-0.746886</td>\n",
       "      <td>-0.731602</td>\n",
       "      <td>508.0</td>\n",
       "      <td>4.0</td>\n",
       "      <td>-1.0</td>\n",
       "      <td>0.0</td>\n",
       "      <td>-0.816769</td>\n",
       "      <td>-1.0</td>\n",
       "    </tr>\n",
       "    <tr>\n",
       "      <th>45210</th>\n",
       "      <td>37.0</td>\n",
       "      <td>-0.834520</td>\n",
       "      <td>-0.797530</td>\n",
       "      <td>-0.788810</td>\n",
       "      <td>-0.764078</td>\n",
       "      <td>2971.0</td>\n",
       "      <td>-0.665958</td>\n",
       "      <td>-0.746886</td>\n",
       "      <td>-0.701624</td>\n",
       "      <td>361.0</td>\n",
       "      <td>2.0</td>\n",
       "      <td>188.0</td>\n",
       "      <td>11.0</td>\n",
       "      <td>-0.666359</td>\n",
       "      <td>-1.0</td>\n",
       "    </tr>\n",
       "  </tbody>\n",
       "</table>\n",
       "<p>45211 rows × 15 columns</p>\n",
       "</div>"
      ],
      "text/plain": [
       "        age       job   marital  education   default  balance   housing  \\\n",
       "0      58.0 -0.724893 -0.797530  -0.699877 -0.764078   2143.0 -0.845998   \n",
       "1      44.0 -0.778858 -0.701022  -0.788810 -0.764078     29.0 -0.845998   \n",
       "2      33.0 -0.834520 -0.797530  -0.788810 -0.764078      2.0 -0.845998   \n",
       "3      47.0 -0.854492 -0.797530  -0.728615 -0.764078   1506.0 -0.845998   \n",
       "4      33.0 -0.763896 -0.701022  -0.728615 -0.764078      1.0 -0.665958   \n",
       "...     ...       ...       ...        ...       ...      ...       ...   \n",
       "45206  51.0 -0.778858 -0.797530  -0.699877 -0.764078    825.0 -0.665958   \n",
       "45207  71.0 -0.544268 -0.761092  -0.827461 -0.764078   1729.0 -0.665958   \n",
       "45208  72.0 -0.544268 -0.797530  -0.788810 -0.764078   5715.0 -0.665958   \n",
       "45209  57.0 -0.854492 -0.797530  -0.788810 -0.764078    668.0 -0.665958   \n",
       "45210  37.0 -0.834520 -0.797530  -0.788810 -0.764078   2971.0 -0.665958   \n",
       "\n",
       "           loan   contact  duration  campaign  pdays  previous  poutcome    y  \n",
       "0     -0.746886 -0.918575     261.0       1.0   -1.0       0.0 -0.816769 -1.0  \n",
       "1     -0.746886 -0.918575     151.0       1.0   -1.0       0.0 -0.816769 -1.0  \n",
       "2     -0.866358 -0.918575      76.0       1.0   -1.0       0.0 -0.816769 -1.0  \n",
       "3     -0.746886 -0.918575      92.0       1.0   -1.0       0.0 -0.816769 -1.0  \n",
       "4     -0.746886 -0.918575     198.0       1.0   -1.0       0.0 -0.816769 -1.0  \n",
       "...         ...       ...       ...       ...    ...       ...       ...  ...  \n",
       "45206 -0.746886 -0.701624     977.0       3.0   -1.0       0.0 -0.816769  1.0  \n",
       "45207 -0.746886 -0.701624     456.0       2.0   -1.0       0.0 -0.816769  1.0  \n",
       "45208 -0.746886 -0.701624    1127.0       5.0  184.0       3.0  0.293806  1.0  \n",
       "45209 -0.746886 -0.731602     508.0       4.0   -1.0       0.0 -0.816769 -1.0  \n",
       "45210 -0.746886 -0.701624     361.0       2.0  188.0      11.0 -0.666359 -1.0  \n",
       "\n",
       "[45211 rows x 15 columns]"
      ]
     },
     "execution_count": 18,
     "metadata": {},
     "output_type": "execute_result"
    }
   ],
   "source": [
    "train_cbe = pd.concat([train_cbe, target], axis=1)\n",
    "train_cbe"
   ]
  },
  {
   "cell_type": "code",
   "execution_count": 19,
   "id": "6813125f",
   "metadata": {
    "ExecuteTime": {
     "end_time": "2022-12-01T18:21:38.165750Z",
     "start_time": "2022-12-01T18:21:38.136847Z"
    }
   },
   "outputs": [],
   "source": [
    "train_data, test_data = train_test_split(train_cbe, train_size = 0.7, random_state=45) \n",
    "\n",
    "train_X = train_data.iloc[:, :-1].reset_index(drop = True) # train_X에 종속변수 제거\n",
    "train_Y = train_data.iloc[:, -1].reset_index(drop = True) # train_Y에 종속변수 따로 저장\n",
    "\n",
    "test_X = test_data.iloc[:, :-1].reset_index(drop = True) # test_X에 종속변수 제거\n",
    "test_Y = test_data.iloc[:, -1].reset_index(drop = True) # test_Y에 종속변수 따로 저장"
   ]
  },
  {
   "cell_type": "markdown",
   "id": "d56de636",
   "metadata": {
    "ExecuteTime": {
     "end_time": "2022-11-17T04:34:35.356280Z",
     "start_time": "2022-11-17T04:34:35.338342Z"
    }
   },
   "source": [
    "# CatBoost"
   ]
  },
  {
   "cell_type": "markdown",
   "id": "5a7c4a00",
   "metadata": {},
   "source": [
    "- 본 순서에서는 CatBoost에서 제공하는 라이브러리를 사용하여 파라미터 변화에 따른 모델의 변화를 보여주고자 합니다.\n",
    "- 우선 처음은 디폴트 값을 이용하여 비교하겠습니다.\n",
    "- 출처: https://catboost.ai/en/docs/concepts/python-reference_catboost"
   ]
  },
  {
   "cell_type": "code",
   "execution_count": null,
   "id": "00455a38",
   "metadata": {
    "ExecuteTime": {
     "end_time": "2022-12-01T18:21:45.591914Z",
     "start_time": "2022-12-01T18:21:38.166747Z"
    },
    "scrolled": true
   },
   "outputs": [],
   "source": [
    "# CatBoost 모델(분류) package 불러오기\n",
    "from catboost import CatBoostClassifier\n",
    "\n",
    "# CatBoost 모델 생성하기\n",
    "model = CatBoostClassifier()\n",
    "\n",
    "# 모델에 데이터 fitting (학습)\n",
    "model.fit(train_X, train_Y)"
   ]
  },
  {
   "cell_type": "code",
   "execution_count": 21,
   "id": "a011eaa5",
   "metadata": {
    "ExecuteTime": {
     "end_time": "2022-12-01T18:21:45.606864Z",
     "start_time": "2022-12-01T18:21:45.592911Z"
    }
   },
   "outputs": [
    {
     "data": {
      "text/html": [
       "<div>\n",
       "<style scoped>\n",
       "    .dataframe tbody tr th:only-of-type {\n",
       "        vertical-align: middle;\n",
       "    }\n",
       "\n",
       "    .dataframe tbody tr th {\n",
       "        vertical-align: top;\n",
       "    }\n",
       "\n",
       "    .dataframe thead th {\n",
       "        text-align: right;\n",
       "    }\n",
       "</style>\n",
       "<table border=\"1\" class=\"dataframe\">\n",
       "  <thead>\n",
       "    <tr style=\"text-align: right;\">\n",
       "      <th></th>\n",
       "      <th>y</th>\n",
       "      <th>pred</th>\n",
       "    </tr>\n",
       "  </thead>\n",
       "  <tbody>\n",
       "    <tr>\n",
       "      <th>0</th>\n",
       "      <td>-1.0</td>\n",
       "      <td>-1.0</td>\n",
       "    </tr>\n",
       "    <tr>\n",
       "      <th>1</th>\n",
       "      <td>-1.0</td>\n",
       "      <td>-1.0</td>\n",
       "    </tr>\n",
       "    <tr>\n",
       "      <th>2</th>\n",
       "      <td>-1.0</td>\n",
       "      <td>-1.0</td>\n",
       "    </tr>\n",
       "    <tr>\n",
       "      <th>3</th>\n",
       "      <td>-1.0</td>\n",
       "      <td>-1.0</td>\n",
       "    </tr>\n",
       "    <tr>\n",
       "      <th>4</th>\n",
       "      <td>-1.0</td>\n",
       "      <td>-1.0</td>\n",
       "    </tr>\n",
       "    <tr>\n",
       "      <th>5</th>\n",
       "      <td>-1.0</td>\n",
       "      <td>-1.0</td>\n",
       "    </tr>\n",
       "    <tr>\n",
       "      <th>6</th>\n",
       "      <td>-1.0</td>\n",
       "      <td>-1.0</td>\n",
       "    </tr>\n",
       "    <tr>\n",
       "      <th>7</th>\n",
       "      <td>-1.0</td>\n",
       "      <td>1.0</td>\n",
       "    </tr>\n",
       "    <tr>\n",
       "      <th>8</th>\n",
       "      <td>-1.0</td>\n",
       "      <td>1.0</td>\n",
       "    </tr>\n",
       "    <tr>\n",
       "      <th>9</th>\n",
       "      <td>-1.0</td>\n",
       "      <td>-1.0</td>\n",
       "    </tr>\n",
       "  </tbody>\n",
       "</table>\n",
       "</div>"
      ],
      "text/plain": [
       "     y  pred\n",
       "0 -1.0  -1.0\n",
       "1 -1.0  -1.0\n",
       "2 -1.0  -1.0\n",
       "3 -1.0  -1.0\n",
       "4 -1.0  -1.0\n",
       "5 -1.0  -1.0\n",
       "6 -1.0  -1.0\n",
       "7 -1.0   1.0\n",
       "8 -1.0   1.0\n",
       "9 -1.0  -1.0"
      ]
     },
     "execution_count": 21,
     "metadata": {},
     "output_type": "execute_result"
    }
   ],
   "source": [
    "# 학습한 CatBoost 모델을 통해 테스트 데이터 예측\n",
    "# pred 변수에 실제값 추가\n",
    "pred = pd.DataFrame(test_Y)\n",
    "\n",
    "# 생성된 모델로 예측하기 / pred 변수에 예측값 추가\n",
    "pred[\"pred\"] = model.predict(test_X)\n",
    "\n",
    "pred.head(10)"
   ]
  },
  {
   "cell_type": "code",
   "execution_count": 22,
   "id": "014a479a",
   "metadata": {
    "ExecuteTime": {
     "end_time": "2022-12-01T18:21:45.621814Z",
     "start_time": "2022-12-01T18:21:45.607861Z"
    }
   },
   "outputs": [
    {
     "name": "stdout",
     "output_type": "stream",
     "text": [
      "Confusion Matrix\n",
      "pred   -1.0   1.0\n",
      "y                \n",
      "-1.0  11639   362\n",
      " 1.0    907   656\n",
      "   \n",
      "Acc :  0.9064435269831908\n"
     ]
    }
   ],
   "source": [
    "# Confusion Matrix 생성\n",
    "tab = pd.crosstab(pred.y, pred.pred)\n",
    "\n",
    "# 정확도 구하기\n",
    "acc = (tab.iloc[0,0] + tab.iloc[1,1]) / len(test_Y)\n",
    "\n",
    "print(\"Confusion Matrix\")\n",
    "print(tab)\n",
    "print(\"   \")\n",
    "print(\"Acc : \", acc)"
   ]
  },
  {
   "cell_type": "markdown",
   "id": "c7b5f4ac",
   "metadata": {},
   "source": [
    "- 실험 결과, Ordered TS를 이용한 디폴트 상태의 CatBoost 분류기는 {0.8978178, 89.78%}의 정확도를 보이고있습니다.\n",
    "- 이를 기준으로, 다양한 hyperparameter에 대한 실험에 있어 baseline으로 설정하여 실험을 진행하겠습니다."
   ]
  },
  {
   "cell_type": "markdown",
   "id": "7d42af61",
   "metadata": {},
   "source": [
    "## Hyperparameter (iteration, learning_rate, depth, bootstrap_type, grow_policy)"
   ]
  },
  {
   "cell_type": "markdown",
   "id": "8ab0c03e",
   "metadata": {},
   "source": [
    "- 아래는 파라미터에 대한 설명입니다.\n",
    "- 출처: https://catboost.ai/en/docs/concepts/python-reference_catboost"
   ]
  },
  {
   "cell_type": "markdown",
   "id": "94ed0dad",
   "metadata": {},
   "source": [
    "    Iterations (int): 구축할 수 있는 최대 트리 수\n",
    "    learning_rate: 기울기 단계를 줄이는 데 사용 (0.0 ~ 1.0)\n",
    "    depth (int): 나무의 깊이를 정의. 의사결정 트리에서 max_depth 매개변수와 유사함. default: 6이고, 값을 줄이면 과적합이 방지되지만, 학습이 잘 진행되지 않을 수 있음. 2 또는 3을 권장\n",
    "    bootstrap_type (string): 트리 구조를 구축할 때 트리 분할을 선택하는 알고리즘 측면의 정규화 및 속도에 영향을 미칩니다.\n",
    "        - 'Poisson'\n",
    "        - 'Bayesian'\n",
    "        - 'Bernoulli'\n",
    "        - 'MVS'\n",
    "        - 'No'\n",
    "    grow_policy: 트리 구성에 있어서 어떤 형식을 따를지 선택\n",
    "        - SymmetricTree — 트리는 지정된 깊이에 도달할 때까지 레벨별로 구성됩니다. 각 반복에서 마지막 트리 수준의 모든 리프는 동일한 조건으로 분할됩니다. 결과 트리 구조는 항상 대칭입니다.\n",
    "        - Depthwise — 지정된 깊이에 도달할 때까지 트리가 레벨별로 구성됩니다. 각 반복에서 마지막 트리 수준의 모든 비단말 리프가 분할됩니다. 각 리프는 손실 개선이 가장 좋은 상태로 분할됩니다.\n",
    "        - Lossguide — 지정된 최대 리프 수에 도달할 때까지 리프별로 트리가 생성됩니다. 각 반복에서 손실 개선이 가장 좋은 비단말 리프가 분할됩니다."
   ]
  },
  {
   "cell_type": "code",
   "execution_count": 23,
   "id": "800ebf64",
   "metadata": {
    "ExecuteTime": {
     "end_time": "2022-12-01T18:21:45.636764Z",
     "start_time": "2022-12-01T18:21:45.622811Z"
    }
   },
   "outputs": [],
   "source": [
    "iterations_list = ['default', 50, 100, 500, 1000]"
   ]
  },
  {
   "cell_type": "code",
   "execution_count": 24,
   "id": "72230063",
   "metadata": {
    "ExecuteTime": {
     "end_time": "2022-12-01T18:21:45.651714Z",
     "start_time": "2022-12-01T18:21:45.637761Z"
    }
   },
   "outputs": [],
   "source": [
    "learning_rates_list = ['auto', 0.01, 0.05, 0.1]"
   ]
  },
  {
   "cell_type": "code",
   "execution_count": 25,
   "id": "6bb063e1",
   "metadata": {
    "ExecuteTime": {
     "end_time": "2022-12-01T18:21:45.666664Z",
     "start_time": "2022-12-01T18:21:45.652711Z"
    }
   },
   "outputs": [],
   "source": [
    "depths_list = [2, 3, 6] # default: 6"
   ]
  },
  {
   "cell_type": "code",
   "execution_count": 26,
   "id": "bf9f010f",
   "metadata": {
    "ExecuteTime": {
     "end_time": "2022-12-01T18:21:45.681614Z",
     "start_time": "2022-12-01T18:21:45.667661Z"
    }
   },
   "outputs": [],
   "source": [
    "bootstrap_types_list = ['Poisson', 'Bayesian', 'Bernoulli', 'MVS', 'No']"
   ]
  },
  {
   "cell_type": "code",
   "execution_count": 27,
   "id": "4ccf4bdf",
   "metadata": {
    "ExecuteTime": {
     "end_time": "2022-12-01T18:21:45.696564Z",
     "start_time": "2022-12-01T18:21:45.684604Z"
    }
   },
   "outputs": [],
   "source": [
    "grow_policys_list = ['SymmetricTree', 'Depthwise', 'Lossguide']"
   ]
  },
  {
   "cell_type": "markdown",
   "id": "f94f4922",
   "metadata": {},
   "source": [
    "### AUROC & ACC 최종 비교 (Hyperparameters)"
   ]
  },
  {
   "cell_type": "code",
   "execution_count": null,
   "id": "694471f0",
   "metadata": {
    "ExecuteTime": {
     "end_time": "2022-12-01T19:41:11.677750Z",
     "start_time": "2022-12-01T18:21:45.697561Z"
    },
    "scrolled": true
   },
   "outputs": [],
   "source": [
    "parameters = {'iterations': iterations_list,\n",
    "          'learning_rate': learning_rates_list,\n",
    "          'depth': depths_list,\n",
    "          'bootstrap_type': bootstrap_types_list,\n",
    "          'grow_policy': grow_policys_list,\n",
    "         }\n",
    "\n",
    "# model define\n",
    "model = CatBoostClassifier()\n",
    "\n",
    "grid_model_clf = GridSearchCV(model, param_grid=parameters, cv=5, scoring='accuracy', refit=True, return_train_score=True)\n",
    "grid_model_clf.fit(train_X, train_Y)"
   ]
  },
  {
   "cell_type": "markdown",
   "id": "18acf8c1",
   "metadata": {},
   "source": [
    "- 출력 결과가 너무 많아서 학습과정은 지우도록 하겠습니다."
   ]
  },
  {
   "cell_type": "code",
   "execution_count": 29,
   "id": "9b138f14",
   "metadata": {
    "ExecuteTime": {
     "end_time": "2022-12-01T19:41:11.692700Z",
     "start_time": "2022-12-01T19:41:11.678747Z"
    }
   },
   "outputs": [
    {
     "name": "stdout",
     "output_type": "stream",
     "text": [
      "\n",
      "========================================================\n",
      " Results from Grid Search \n",
      "========================================================\n",
      "\n",
      " The best estimator across ALL searched params:\n",
      " <catboost.core.CatBoostClassifier object at 0x000001A2485CE9A0>\n",
      "\n",
      " The best score across ALL searched params:\n",
      " 0.9019179748079068\n",
      "\n",
      " The best parameters across ALL searched params:\n",
      " {'bootstrap_type': 'No', 'depth': 6, 'grow_policy': 'Lossguide', 'iterations': 500, 'learning_rate': 0.01}\n",
      "\n",
      " ========================================================\n"
     ]
    }
   ],
   "source": [
    "# Results from Grid Search\n",
    "print(\"\\n========================================================\")\n",
    "print(\" Results from Grid Search \")\n",
    "print(\"========================================================\")\n",
    "print(\"\\n The best estimator across ALL searched params:\\n\",\n",
    "      grid_model_clf.best_estimator_)\n",
    "print(\"\\n The best score across ALL searched params:\\n\",\n",
    "      grid_model_clf.best_score_)\n",
    "print(\"\\n The best parameters across ALL searched params:\\n\",\n",
    "      grid_model_clf.best_params_)\n",
    "print(\"\\n ========================================================\")"
   ]
  },
  {
   "cell_type": "code",
   "execution_count": 30,
   "id": "12149bbd",
   "metadata": {
    "ExecuteTime": {
     "end_time": "2022-12-01T19:41:11.707650Z",
     "start_time": "2022-12-01T19:41:11.693697Z"
    }
   },
   "outputs": [],
   "source": [
    "# print results\n",
    "result = pd.DataFrame(grid_model_clf.cv_results_)\n",
    "\n",
    "best_model_clf = grid_model_clf.best_estimator_"
   ]
  },
  {
   "cell_type": "code",
   "execution_count": 31,
   "id": "c2001f3a",
   "metadata": {
    "ExecuteTime": {
     "end_time": "2022-12-01T19:41:11.737550Z",
     "start_time": "2022-12-01T19:41:11.708647Z"
    }
   },
   "outputs": [
    {
     "name": "stdout",
     "output_type": "stream",
     "text": [
      "CV score\n"
     ]
    },
    {
     "data": {
      "text/html": [
       "<div>\n",
       "<style scoped>\n",
       "    .dataframe tbody tr th:only-of-type {\n",
       "        vertical-align: middle;\n",
       "    }\n",
       "\n",
       "    .dataframe tbody tr th {\n",
       "        vertical-align: top;\n",
       "    }\n",
       "\n",
       "    .dataframe thead th {\n",
       "        text-align: right;\n",
       "    }\n",
       "</style>\n",
       "<table border=\"1\" class=\"dataframe\">\n",
       "  <thead>\n",
       "    <tr style=\"text-align: right;\">\n",
       "      <th></th>\n",
       "      <th>params</th>\n",
       "      <th>split0_test_score</th>\n",
       "      <th>split1_test_score</th>\n",
       "      <th>split2_test_score</th>\n",
       "      <th>split3_test_score</th>\n",
       "      <th>split4_test_score</th>\n",
       "      <th>std_test_score</th>\n",
       "      <th>mean_test_score</th>\n",
       "    </tr>\n",
       "  </thead>\n",
       "  <tbody>\n",
       "    <tr>\n",
       "      <th>0</th>\n",
       "      <td>{'bootstrap_type': 'Poisson', 'depth': 2, 'gro...</td>\n",
       "      <td>NaN</td>\n",
       "      <td>NaN</td>\n",
       "      <td>NaN</td>\n",
       "      <td>NaN</td>\n",
       "      <td>NaN</td>\n",
       "      <td>NaN</td>\n",
       "      <td>NaN</td>\n",
       "    </tr>\n",
       "    <tr>\n",
       "      <th>1</th>\n",
       "      <td>{'bootstrap_type': 'Poisson', 'depth': 2, 'gro...</td>\n",
       "      <td>NaN</td>\n",
       "      <td>NaN</td>\n",
       "      <td>NaN</td>\n",
       "      <td>NaN</td>\n",
       "      <td>NaN</td>\n",
       "      <td>NaN</td>\n",
       "      <td>NaN</td>\n",
       "    </tr>\n",
       "    <tr>\n",
       "      <th>2</th>\n",
       "      <td>{'bootstrap_type': 'Poisson', 'depth': 2, 'gro...</td>\n",
       "      <td>NaN</td>\n",
       "      <td>NaN</td>\n",
       "      <td>NaN</td>\n",
       "      <td>NaN</td>\n",
       "      <td>NaN</td>\n",
       "      <td>NaN</td>\n",
       "      <td>NaN</td>\n",
       "    </tr>\n",
       "    <tr>\n",
       "      <th>3</th>\n",
       "      <td>{'bootstrap_type': 'Poisson', 'depth': 2, 'gro...</td>\n",
       "      <td>NaN</td>\n",
       "      <td>NaN</td>\n",
       "      <td>NaN</td>\n",
       "      <td>NaN</td>\n",
       "      <td>NaN</td>\n",
       "      <td>NaN</td>\n",
       "      <td>NaN</td>\n",
       "    </tr>\n",
       "    <tr>\n",
       "      <th>4</th>\n",
       "      <td>{'bootstrap_type': 'Poisson', 'depth': 2, 'gro...</td>\n",
       "      <td>NaN</td>\n",
       "      <td>NaN</td>\n",
       "      <td>NaN</td>\n",
       "      <td>NaN</td>\n",
       "      <td>NaN</td>\n",
       "      <td>NaN</td>\n",
       "      <td>NaN</td>\n",
       "    </tr>\n",
       "    <tr>\n",
       "      <th>...</th>\n",
       "      <td>...</td>\n",
       "      <td>...</td>\n",
       "      <td>...</td>\n",
       "      <td>...</td>\n",
       "      <td>...</td>\n",
       "      <td>...</td>\n",
       "      <td>...</td>\n",
       "      <td>...</td>\n",
       "    </tr>\n",
       "    <tr>\n",
       "      <th>895</th>\n",
       "      <td>{'bootstrap_type': 'No', 'depth': 6, 'grow_pol...</td>\n",
       "      <td>0.900474</td>\n",
       "      <td>0.901738</td>\n",
       "      <td>0.895402</td>\n",
       "      <td>0.888766</td>\n",
       "      <td>0.899826</td>\n",
       "      <td>0.004745</td>\n",
       "      <td>0.897241</td>\n",
       "    </tr>\n",
       "    <tr>\n",
       "      <th>896</th>\n",
       "      <td>{'bootstrap_type': 'No', 'depth': 6, 'grow_pol...</td>\n",
       "      <td>NaN</td>\n",
       "      <td>NaN</td>\n",
       "      <td>NaN</td>\n",
       "      <td>NaN</td>\n",
       "      <td>NaN</td>\n",
       "      <td>NaN</td>\n",
       "      <td>NaN</td>\n",
       "    </tr>\n",
       "    <tr>\n",
       "      <th>897</th>\n",
       "      <td>{'bootstrap_type': 'No', 'depth': 6, 'grow_pol...</td>\n",
       "      <td>0.902686</td>\n",
       "      <td>0.903002</td>\n",
       "      <td>0.899668</td>\n",
       "      <td>0.897298</td>\n",
       "      <td>0.906304</td>\n",
       "      <td>0.003077</td>\n",
       "      <td>0.901792</td>\n",
       "    </tr>\n",
       "    <tr>\n",
       "      <th>898</th>\n",
       "      <td>{'bootstrap_type': 'No', 'depth': 6, 'grow_pol...</td>\n",
       "      <td>0.896998</td>\n",
       "      <td>0.899842</td>\n",
       "      <td>0.891768</td>\n",
       "      <td>0.893348</td>\n",
       "      <td>0.899194</td>\n",
       "      <td>0.003182</td>\n",
       "      <td>0.896230</td>\n",
       "    </tr>\n",
       "    <tr>\n",
       "      <th>899</th>\n",
       "      <td>{'bootstrap_type': 'No', 'depth': 6, 'grow_pol...</td>\n",
       "      <td>0.896998</td>\n",
       "      <td>0.899368</td>\n",
       "      <td>0.889082</td>\n",
       "      <td>0.885764</td>\n",
       "      <td>0.896666</td>\n",
       "      <td>0.005216</td>\n",
       "      <td>0.893576</td>\n",
       "    </tr>\n",
       "  </tbody>\n",
       "</table>\n",
       "<p>900 rows × 8 columns</p>\n",
       "</div>"
      ],
      "text/plain": [
       "                                                params  split0_test_score  \\\n",
       "0    {'bootstrap_type': 'Poisson', 'depth': 2, 'gro...                NaN   \n",
       "1    {'bootstrap_type': 'Poisson', 'depth': 2, 'gro...                NaN   \n",
       "2    {'bootstrap_type': 'Poisson', 'depth': 2, 'gro...                NaN   \n",
       "3    {'bootstrap_type': 'Poisson', 'depth': 2, 'gro...                NaN   \n",
       "4    {'bootstrap_type': 'Poisson', 'depth': 2, 'gro...                NaN   \n",
       "..                                                 ...                ...   \n",
       "895  {'bootstrap_type': 'No', 'depth': 6, 'grow_pol...           0.900474   \n",
       "896  {'bootstrap_type': 'No', 'depth': 6, 'grow_pol...                NaN   \n",
       "897  {'bootstrap_type': 'No', 'depth': 6, 'grow_pol...           0.902686   \n",
       "898  {'bootstrap_type': 'No', 'depth': 6, 'grow_pol...           0.896998   \n",
       "899  {'bootstrap_type': 'No', 'depth': 6, 'grow_pol...           0.896998   \n",
       "\n",
       "     split1_test_score  split2_test_score  split3_test_score  \\\n",
       "0                  NaN                NaN                NaN   \n",
       "1                  NaN                NaN                NaN   \n",
       "2                  NaN                NaN                NaN   \n",
       "3                  NaN                NaN                NaN   \n",
       "4                  NaN                NaN                NaN   \n",
       "..                 ...                ...                ...   \n",
       "895           0.901738           0.895402           0.888766   \n",
       "896                NaN                NaN                NaN   \n",
       "897           0.903002           0.899668           0.897298   \n",
       "898           0.899842           0.891768           0.893348   \n",
       "899           0.899368           0.889082           0.885764   \n",
       "\n",
       "     split4_test_score  std_test_score  mean_test_score  \n",
       "0                  NaN             NaN              NaN  \n",
       "1                  NaN             NaN              NaN  \n",
       "2                  NaN             NaN              NaN  \n",
       "3                  NaN             NaN              NaN  \n",
       "4                  NaN             NaN              NaN  \n",
       "..                 ...             ...              ...  \n",
       "895           0.899826        0.004745         0.897241  \n",
       "896                NaN             NaN              NaN  \n",
       "897           0.906304        0.003077         0.901792  \n",
       "898           0.899194        0.003182         0.896230  \n",
       "899           0.896666        0.005216         0.893576  \n",
       "\n",
       "[900 rows x 8 columns]"
      ]
     },
     "execution_count": 31,
     "metadata": {},
     "output_type": "execute_result"
    }
   ],
   "source": [
    "print(\"CV score\")\n",
    "result[[\"params\"] + [\"split\" + str(i) + \"_test_score\" for i in range(5)] + [\"std_test_score\", \"mean_test_score\"]]"
   ]
  },
  {
   "cell_type": "markdown",
   "id": "b1b6192d",
   "metadata": {},
   "source": [
    "- 최종적으로, 데이터셋에 대해 모든 하이퍼파라미터에 대한 gridsearchCV를 진행해서 총 1080개의 경우를 조사했고, 최적의 파라미터를 찾는 과정을 진행했습니다."
   ]
  },
  {
   "cell_type": "code",
   "execution_count": 32,
   "id": "61f1f78f",
   "metadata": {
    "ExecuteTime": {
     "end_time": "2022-12-01T19:41:11.782400Z",
     "start_time": "2022-12-01T19:41:11.738547Z"
    }
   },
   "outputs": [
    {
     "name": "stdout",
     "output_type": "stream",
     "text": [
      "CatBoost by gridsearchCV\n",
      "Best Parameter : {'bootstrap_type': 'No', 'depth': 6, 'grow_policy': 'Lossguide', 'iterations': 500, 'learning_rate': 0.01}\n",
      "pred   -1.0   1.0\n",
      "real             \n",
      "-1.0  11672   329\n",
      " 1.0    914   649\n",
      "Acc : 0.9083603656738425\n"
     ]
    }
   ],
   "source": [
    "print(\"CatBoost by gridsearchCV\")\n",
    "print(\"Best Parameter : \" + str(grid_model_clf.best_params_))\n",
    "\n",
    "# predict\n",
    "pred = best_model_clf.predict(test_X)\n",
    "# cross table\n",
    "tab = pd.crosstab(test_Y.ravel(), pred, rownames=[\"real\"], colnames=[\"pred\"])\n",
    "print(tab)\n",
    "print(\"Acc : \" + str((tab.iloc[0, 0] + tab.iloc[1, 1]) / len(test_X)))"
   ]
  },
  {
   "cell_type": "markdown",
   "id": "32901bad",
   "metadata": {},
   "source": [
    "- 결과, Best Parameter : {'bootstrap_type': 'No', 'depth': 6, 'grow_policy': 'Lossguide', 'iterations': 500, 'learning_rate': 0.01}일 때 accuracy의 값이 가장 좋게 나왔고,\n",
    "- 이 모델을 사용해 testset을 분류한 결과, 가장 높은 정확도인 90.84%의 정확도를 달성할 수 있었습니다."
   ]
  }
 ],
 "metadata": {
  "kernelspec": {
   "display_name": "Python 3 (ipykernel)",
   "language": "python",
   "name": "python3"
  },
  "language_info": {
   "codemirror_mode": {
    "name": "ipython",
    "version": 3
   },
   "file_extension": ".py",
   "mimetype": "text/x-python",
   "name": "python",
   "nbconvert_exporter": "python",
   "pygments_lexer": "ipython3",
   "version": "3.9.7"
  },
  "toc": {
   "base_numbering": 1,
   "nav_menu": {},
   "number_sections": true,
   "sideBar": true,
   "skip_h1_title": false,
   "title_cell": "Table of Contents",
   "title_sidebar": "Contents",
   "toc_cell": false,
   "toc_position": {
    "height": "calc(100% - 180px)",
    "left": "10px",
    "top": "150px",
    "width": "312.715px"
   },
   "toc_section_display": true,
   "toc_window_display": true
  },
  "varInspector": {
   "cols": {
    "lenName": 16,
    "lenType": 16,
    "lenVar": 40
   },
   "kernels_config": {
    "python": {
     "delete_cmd_postfix": "",
     "delete_cmd_prefix": "del ",
     "library": "var_list.py",
     "varRefreshCmd": "print(var_dic_list())"
    },
    "r": {
     "delete_cmd_postfix": ") ",
     "delete_cmd_prefix": "rm(",
     "library": "var_list.r",
     "varRefreshCmd": "cat(var_dic_list()) "
    }
   },
   "types_to_exclude": [
    "module",
    "function",
    "builtin_function_or_method",
    "instance",
    "_Feature"
   ],
   "window_display": false
  }
 },
 "nbformat": 4,
 "nbformat_minor": 5
}
