{
 "cells": [
  {
   "cell_type": "markdown",
   "id": "a0de269f",
   "metadata": {},
   "source": [
    "## Implementation of Genetic Algorithm for Feature Selection\n",
    "________\n",
    "##### 1) 무작위 모집단을 생성 및 초기화하는 함수를 실행\n",
    "##### 2) 생성된 무작위 모집단은 적합도 검정을 통해 최적의 parent를 판단 (가장 높은 정확도)\n",
    "##### 3) n-parent 매개변수에 따라 무작위 모집단에서 가장 좋은 적합도의 최적의 parent를 개수만큼 선택\n",
    "##### 4) 동일한 작업을 수행한 후, crossover 및 mutation 기능을 진행\n",
    "##### 5) crossover는 가장 적합한 두 parents에 대해 첫 번째 parent의 유전자의 일부와 두 번째 parent의 유전자의 일부를 무작위로 선택하여 결합\n",
    "##### 6) mutation은 crossover child에 대해 mutation rate를 설정하고 num_feature에 비례하게 개수를 선택 후 무작위로 뒤집음으로써 달성\n",
    "##### 7) 이전 세대에서 가장 적합한 parent를 선택하고 crossover 및 mutation를 적용하여 새로운 세대가 생성\n",
    "##### 8) 이 과정을 n세대 동안 반복\n",
    "______"
   ]
  },
  {
   "cell_type": "markdown",
   "id": "48e04847",
   "metadata": {},
   "source": [
    "# Regression part"
   ]
  },
  {
   "cell_type": "markdown",
   "id": "55311502",
   "metadata": {},
   "source": [
    "## import module"
   ]
  },
  {
   "cell_type": "code",
   "execution_count": 1,
   "id": "9423c934",
   "metadata": {
    "ExecuteTime": {
     "end_time": "2022-10-13T11:35:58.912168Z",
     "start_time": "2022-10-13T11:35:58.177991Z"
    }
   },
   "outputs": [],
   "source": [
    "import numpy as np\n",
    "import pandas as pd\n",
    "import seaborn as sns\n",
    "import matplotlib.pyplot as plt\n",
    "from random import randint\n",
    "import random"
   ]
  },
  {
   "cell_type": "markdown",
   "id": "6a07fee5",
   "metadata": {},
   "source": [
    "## Load Dataset & Preprocessing"
   ]
  },
  {
   "cell_type": "markdown",
   "id": "df757afa",
   "metadata": {},
   "source": [
    "- regression case를 위해 Bike Sharing Demand Dataset 사용 (Kaggle dataset)\n",
    "- feature: [\"datetime\", \"season\", \"holiday\", \"workingday\", \"weather\", \"temp\", \"atemp\", \"humidity\", \"windspeed\", \"casual\", \"registered\"]\n",
    "- target: [\"count\"]"
   ]
  },
  {
   "cell_type": "code",
   "execution_count": 2,
   "id": "23f3470e",
   "metadata": {
    "ExecuteTime": {
     "end_time": "2022-10-13T11:35:58.942640Z",
     "start_time": "2022-10-13T11:35:58.913167Z"
    }
   },
   "outputs": [
    {
     "name": "stdout",
     "output_type": "stream",
     "text": [
      "(10886, 12)\n"
     ]
    },
    {
     "data": {
      "text/html": [
       "<div>\n",
       "<style scoped>\n",
       "    .dataframe tbody tr th:only-of-type {\n",
       "        vertical-align: middle;\n",
       "    }\n",
       "\n",
       "    .dataframe tbody tr th {\n",
       "        vertical-align: top;\n",
       "    }\n",
       "\n",
       "    .dataframe thead th {\n",
       "        text-align: right;\n",
       "    }\n",
       "</style>\n",
       "<table border=\"1\" class=\"dataframe\">\n",
       "  <thead>\n",
       "    <tr style=\"text-align: right;\">\n",
       "      <th></th>\n",
       "      <th>datetime</th>\n",
       "      <th>season</th>\n",
       "      <th>holiday</th>\n",
       "      <th>workingday</th>\n",
       "      <th>weather</th>\n",
       "      <th>temp</th>\n",
       "      <th>atemp</th>\n",
       "      <th>humidity</th>\n",
       "      <th>windspeed</th>\n",
       "      <th>casual</th>\n",
       "      <th>registered</th>\n",
       "      <th>count</th>\n",
       "    </tr>\n",
       "  </thead>\n",
       "  <tbody>\n",
       "    <tr>\n",
       "      <th>0</th>\n",
       "      <td>2011-01-01 00:00:00</td>\n",
       "      <td>1</td>\n",
       "      <td>0</td>\n",
       "      <td>0</td>\n",
       "      <td>1</td>\n",
       "      <td>9.84</td>\n",
       "      <td>14.395</td>\n",
       "      <td>81</td>\n",
       "      <td>0.0</td>\n",
       "      <td>3</td>\n",
       "      <td>13</td>\n",
       "      <td>16</td>\n",
       "    </tr>\n",
       "    <tr>\n",
       "      <th>1</th>\n",
       "      <td>2011-01-01 01:00:00</td>\n",
       "      <td>1</td>\n",
       "      <td>0</td>\n",
       "      <td>0</td>\n",
       "      <td>1</td>\n",
       "      <td>9.02</td>\n",
       "      <td>13.635</td>\n",
       "      <td>80</td>\n",
       "      <td>0.0</td>\n",
       "      <td>8</td>\n",
       "      <td>32</td>\n",
       "      <td>40</td>\n",
       "    </tr>\n",
       "    <tr>\n",
       "      <th>2</th>\n",
       "      <td>2011-01-01 02:00:00</td>\n",
       "      <td>1</td>\n",
       "      <td>0</td>\n",
       "      <td>0</td>\n",
       "      <td>1</td>\n",
       "      <td>9.02</td>\n",
       "      <td>13.635</td>\n",
       "      <td>80</td>\n",
       "      <td>0.0</td>\n",
       "      <td>5</td>\n",
       "      <td>27</td>\n",
       "      <td>32</td>\n",
       "    </tr>\n",
       "  </tbody>\n",
       "</table>\n",
       "</div>"
      ],
      "text/plain": [
       "              datetime  season  holiday  workingday  weather  temp   atemp  \\\n",
       "0  2011-01-01 00:00:00       1        0           0        1  9.84  14.395   \n",
       "1  2011-01-01 01:00:00       1        0           0        1  9.02  13.635   \n",
       "2  2011-01-01 02:00:00       1        0           0        1  9.02  13.635   \n",
       "\n",
       "   humidity  windspeed  casual  registered  count  \n",
       "0        81        0.0       3          13     16  \n",
       "1        80        0.0       8          32     40  \n",
       "2        80        0.0       5          27     32  "
      ]
     },
     "execution_count": 2,
     "metadata": {},
     "output_type": "execute_result"
    }
   ],
   "source": [
    "bike_df = pd.read_csv('./bike_train.csv')\n",
    "print(bike_df.shape)\n",
    "bike_df.head(3)"
   ]
  },
  {
   "cell_type": "code",
   "execution_count": 3,
   "id": "1fbb7787",
   "metadata": {
    "ExecuteTime": {
     "end_time": "2022-10-13T11:35:59.286928Z",
     "start_time": "2022-10-13T11:35:58.943640Z"
    }
   },
   "outputs": [
    {
     "data": {
      "text/html": [
       "<div>\n",
       "<style scoped>\n",
       "    .dataframe tbody tr th:only-of-type {\n",
       "        vertical-align: middle;\n",
       "    }\n",
       "\n",
       "    .dataframe tbody tr th {\n",
       "        vertical-align: top;\n",
       "    }\n",
       "\n",
       "    .dataframe thead th {\n",
       "        text-align: right;\n",
       "    }\n",
       "</style>\n",
       "<table border=\"1\" class=\"dataframe\">\n",
       "  <thead>\n",
       "    <tr style=\"text-align: right;\">\n",
       "      <th></th>\n",
       "      <th>datetime</th>\n",
       "      <th>season</th>\n",
       "      <th>holiday</th>\n",
       "      <th>workingday</th>\n",
       "      <th>weather</th>\n",
       "      <th>temp</th>\n",
       "      <th>atemp</th>\n",
       "      <th>humidity</th>\n",
       "      <th>windspeed</th>\n",
       "      <th>casual</th>\n",
       "      <th>registered</th>\n",
       "      <th>count</th>\n",
       "      <th>year</th>\n",
       "      <th>month</th>\n",
       "      <th>day</th>\n",
       "      <th>hour</th>\n",
       "    </tr>\n",
       "  </thead>\n",
       "  <tbody>\n",
       "    <tr>\n",
       "      <th>0</th>\n",
       "      <td>2011-01-01 00:00:00</td>\n",
       "      <td>1</td>\n",
       "      <td>0</td>\n",
       "      <td>0</td>\n",
       "      <td>1</td>\n",
       "      <td>9.84</td>\n",
       "      <td>14.395</td>\n",
       "      <td>81</td>\n",
       "      <td>0.0</td>\n",
       "      <td>3</td>\n",
       "      <td>13</td>\n",
       "      <td>16</td>\n",
       "      <td>2011</td>\n",
       "      <td>1</td>\n",
       "      <td>1</td>\n",
       "      <td>0</td>\n",
       "    </tr>\n",
       "    <tr>\n",
       "      <th>1</th>\n",
       "      <td>2011-01-01 01:00:00</td>\n",
       "      <td>1</td>\n",
       "      <td>0</td>\n",
       "      <td>0</td>\n",
       "      <td>1</td>\n",
       "      <td>9.02</td>\n",
       "      <td>13.635</td>\n",
       "      <td>80</td>\n",
       "      <td>0.0</td>\n",
       "      <td>8</td>\n",
       "      <td>32</td>\n",
       "      <td>40</td>\n",
       "      <td>2011</td>\n",
       "      <td>1</td>\n",
       "      <td>1</td>\n",
       "      <td>1</td>\n",
       "    </tr>\n",
       "    <tr>\n",
       "      <th>2</th>\n",
       "      <td>2011-01-01 02:00:00</td>\n",
       "      <td>1</td>\n",
       "      <td>0</td>\n",
       "      <td>0</td>\n",
       "      <td>1</td>\n",
       "      <td>9.02</td>\n",
       "      <td>13.635</td>\n",
       "      <td>80</td>\n",
       "      <td>0.0</td>\n",
       "      <td>5</td>\n",
       "      <td>27</td>\n",
       "      <td>32</td>\n",
       "      <td>2011</td>\n",
       "      <td>1</td>\n",
       "      <td>1</td>\n",
       "      <td>2</td>\n",
       "    </tr>\n",
       "  </tbody>\n",
       "</table>\n",
       "</div>"
      ],
      "text/plain": [
       "             datetime  season  holiday  workingday  weather  temp   atemp  \\\n",
       "0 2011-01-01 00:00:00       1        0           0        1  9.84  14.395   \n",
       "1 2011-01-01 01:00:00       1        0           0        1  9.02  13.635   \n",
       "2 2011-01-01 02:00:00       1        0           0        1  9.02  13.635   \n",
       "\n",
       "   humidity  windspeed  casual  registered  count  year  month  day  hour  \n",
       "0        81        0.0       3          13     16  2011      1    1     0  \n",
       "1        80        0.0       8          32     40  2011      1    1     1  \n",
       "2        80        0.0       5          27     32  2011      1    1     2  "
      ]
     },
     "execution_count": 3,
     "metadata": {},
     "output_type": "execute_result"
    }
   ],
   "source": [
    "# 문자열을 datetime 타입으로 변경. \n",
    "bike_df['datetime'] = bike_df.datetime.apply(pd.to_datetime)\n",
    "\n",
    "# datetime 타입에서 년, 월, 일, 시간 추출\n",
    "bike_df['year'] = bike_df.datetime.apply(lambda x : x.year)\n",
    "bike_df['month'] = bike_df.datetime.apply(lambda x : x.month)\n",
    "bike_df['day'] = bike_df.datetime.apply(lambda x : x.day)\n",
    "bike_df['hour'] = bike_df.datetime.apply(lambda x: x.hour)\n",
    "bike_df.head(3)"
   ]
  },
  {
   "cell_type": "code",
   "execution_count": 4,
   "id": "af24dbf9",
   "metadata": {
    "ExecuteTime": {
     "end_time": "2022-10-13T11:35:59.301764Z",
     "start_time": "2022-10-13T11:35:59.287894Z"
    }
   },
   "outputs": [],
   "source": [
    "drop_columns = ['datetime','casual','registered']\n",
    "bike_df.drop(drop_columns, axis=1, inplace=True)"
   ]
  },
  {
   "cell_type": "markdown",
   "id": "b0e8d946",
   "metadata": {},
   "source": [
    "- 데이터를 Training, Testing Set으로 분할 (75:25)\n",
    "- Model은 기본 Linear Regression 모델 사용"
   ]
  },
  {
   "cell_type": "code",
   "execution_count": 5,
   "id": "29afd2eb",
   "metadata": {
    "ExecuteTime": {
     "end_time": "2022-10-13T11:35:59.392256Z",
     "start_time": "2022-10-13T11:35:59.302123Z"
    }
   },
   "outputs": [],
   "source": [
    "from sklearn.model_selection import train_test_split\n",
    "def split(df, label):\n",
    "    X_tr, X_te, Y_tr, Y_te = train_test_split(df, label, test_size=0.25, random_state=42)\n",
    "    return X_tr, X_te, Y_tr, Y_te\n",
    "\n",
    "y_target = bike_df['count']\n",
    "X_features = bike_df.drop(['count'],axis=1,inplace=False)\n",
    "\n",
    "X_train, X_test, y_train, y_test = split(X_features, y_target)"
   ]
  },
  {
   "cell_type": "code",
   "execution_count": 6,
   "id": "7fa1261b",
   "metadata": {
    "ExecuteTime": {
     "end_time": "2022-10-13T11:35:59.422797Z",
     "start_time": "2022-10-13T11:35:59.392256Z"
    }
   },
   "outputs": [],
   "source": [
    "from sklearn.linear_model import LinearRegression\n",
    "lr_reg = LinearRegression()"
   ]
  },
  {
   "cell_type": "markdown",
   "id": "918a7104",
   "metadata": {},
   "source": [
    "## Genetic Algorithm"
   ]
  },
  {
   "cell_type": "markdown",
   "id": "e3abd304",
   "metadata": {},
   "source": [
    "### Step 1 (Initialization)"
   ]
  },
  {
   "cell_type": "markdown",
   "id": "57f96b6f",
   "metadata": {},
   "source": [
    "- Population을 초기화하여 Chromosome(염색체) 벡터를 binary값으로 인코딩 (0, 1)"
   ]
  },
  {
   "cell_type": "code",
   "execution_count": 7,
   "id": "8d5474f8",
   "metadata": {
    "ExecuteTime": {
     "end_time": "2022-10-13T11:35:59.437669Z",
     "start_time": "2022-10-13T11:35:59.423796Z"
    }
   },
   "outputs": [
    {
     "name": "stderr",
     "output_type": "stream",
     "text": [
      "C:\\Users\\YongGon\\AppData\\Local\\Temp/ipykernel_12196/2423685752.py:7: DeprecationWarning: `np.int` is a deprecated alias for the builtin `int`. To silence this warning, use `int` by itself. Doing this will not modify any behavior and is safe. When replacing `np.int`, you may wish to use e.g. `np.int64` or `np.int32` to specify the precision. If you wish to review your current use, check the release note link for additional information.\n",
      "Deprecated in NumPy 1.20; for more details and guidance: https://numpy.org/devdocs/release/1.20.0-notes.html#deprecations\n",
      "  chromosome = np.ones(num_features, dtype=np.int)\n"
     ]
    },
    {
     "data": {
      "text/plain": [
       "[[0, 0, 1, 1, 1, 1, 1, 0, 0, 0, 1, 0],\n",
       " [1, 1, 1, 1, 0, 0, 1, 1, 0, 0, 0, 0],\n",
       " [0, 1, 0, 0, 1, 1, 0, 1, 1, 0, 1, 0],\n",
       " [0, 0, 1, 1, 1, 1, 0, 1, 0, 0, 1, 0],\n",
       " [1, 0, 1, 1, 1, 0, 0, 0, 1, 0, 1, 0],\n",
       " [1, 1, 0, 0, 0, 0, 0, 1, 1, 0, 1, 1],\n",
       " [0, 0, 1, 0, 1, 1, 0, 1, 1, 0, 1, 0],\n",
       " [1, 1, 0, 1, 0, 0, 1, 1, 0, 0, 1, 0],\n",
       " [0, 0, 0, 1, 1, 1, 1, 0, 1, 1, 0, 0],\n",
       " [0, 0, 0, 1, 0, 1, 0, 1, 0, 1, 1, 1],\n",
       " [1, 0, 0, 0, 1, 0, 1, 0, 0, 1, 1, 1],\n",
       " [1, 0, 1, 0, 0, 0, 1, 1, 0, 1, 0, 1],\n",
       " [1, 1, 0, 0, 1, 1, 1, 0, 0, 1, 0, 0],\n",
       " [1, 1, 1, 1, 0, 0, 1, 0, 0, 0, 1, 0],\n",
       " [1, 1, 0, 1, 0, 1, 0, 1, 1, 0, 0, 0],\n",
       " [1, 1, 1, 0, 0, 1, 0, 1, 0, 0, 0, 1],\n",
       " [1, 1, 1, 1, 0, 1, 0, 0, 0, 1, 0, 0],\n",
       " [1, 0, 0, 1, 0, 1, 1, 0, 0, 1, 0, 1],\n",
       " [0, 1, 1, 0, 1, 0, 0, 1, 1, 1, 0, 0],\n",
       " [0, 0, 0, 0, 0, 0, 1, 1, 1, 1, 1, 1],\n",
       " [1, 1, 0, 1, 1, 1, 0, 0, 1, 0, 0, 0],\n",
       " [0, 0, 0, 1, 1, 0, 0, 1, 1, 1, 1, 0],\n",
       " [0, 0, 0, 1, 1, 1, 1, 1, 0, 0, 0, 1],\n",
       " [1, 1, 1, 0, 0, 0, 0, 0, 1, 1, 0, 1],\n",
       " [1, 0, 0, 1, 1, 1, 1, 0, 0, 0, 0, 1],\n",
       " [1, 0, 0, 0, 0, 0, 1, 1, 1, 1, 1, 0],\n",
       " [1, 0, 0, 1, 0, 1, 0, 1, 0, 0, 1, 1],\n",
       " [1, 1, 0, 1, 1, 0, 0, 1, 1, 0, 0, 0],\n",
       " [0, 1, 0, 1, 1, 0, 1, 1, 1, 0, 0, 0],\n",
       " [1, 1, 0, 0, 1, 0, 0, 1, 0, 1, 0, 1]]"
      ]
     },
     "execution_count": 7,
     "metadata": {},
     "output_type": "execute_result"
    }
   ],
   "source": [
    "num_features = X_train.shape[1] \n",
    "num_population = 30\n",
    "\n",
    "def initilization_of_population(num_population, num_features):\n",
    "    population = []\n",
    "    for i in range(num_population):\n",
    "        chromosome = np.ones(num_features, dtype=np.int)\n",
    "        chromosome[:int(0.5*num_features)]=False             \n",
    "        np.random.shuffle(chromosome)\n",
    "        chromosome = list(chromosome)\n",
    "        population.append(chromosome)\n",
    "    return population\n",
    "\n",
    "population = initilization_of_population(num_population, num_features)\n",
    "population"
   ]
  },
  {
   "cell_type": "code",
   "execution_count": 8,
   "id": "0fe0fbad",
   "metadata": {
    "ExecuteTime": {
     "end_time": "2022-10-13T11:35:59.453283Z",
     "start_time": "2022-10-13T11:35:59.438331Z"
    }
   },
   "outputs": [
    {
     "data": {
      "text/plain": [
       "(30, 12)"
      ]
     },
     "execution_count": 8,
     "metadata": {},
     "output_type": "execute_result"
    }
   ],
   "source": [
    "np.array(population).shape"
   ]
  },
  {
   "cell_type": "markdown",
   "id": "7a9ca4b5",
   "metadata": {},
   "source": [
    "### Step 2. Fitting Models & Step 3. Fitness Evaluation"
   ]
  },
  {
   "cell_type": "markdown",
   "id": "2eab6024",
   "metadata": {},
   "source": [
    "- Linear Model을 Fitting하고, Fitting된 모델데 대한 적합도를 평가하여 Score를 저장"
   ]
  },
  {
   "cell_type": "code",
   "execution_count": 9,
   "id": "b358af3d",
   "metadata": {
    "ExecuteTime": {
     "end_time": "2022-10-13T11:35:59.543382Z",
     "start_time": "2022-10-13T11:35:59.455277Z"
    }
   },
   "outputs": [],
   "source": [
    "# calculate chromosome scores\n",
    "score = -99999\n",
    "\n",
    "def fitness_score(population):\n",
    "    scores = []\n",
    "    for chromosome in population:\n",
    "        if sum(chromosome) == 0: # Chromosome에 1이 하나도 없을 때\n",
    "            score = -999999 \n",
    "        else:\n",
    "            chromosome_selected = [bool(chromo) for chromo in chromosome] \n",
    "            X_train_selected = X_train.loc[:, chromosome_selected]\n",
    "            X_test_selected = X_test.loc[:, chromosome_selected]\n",
    "\n",
    "            lr_reg.fit(X_train_selected, y_train)\n",
    "            score = lr_reg.score(X_test_selected, y_test) \n",
    "\n",
    "        scores.append(score)\n",
    "    return scores\n",
    "\n",
    "scores_chromosome = fitness_score(population)"
   ]
  },
  {
   "cell_type": "markdown",
   "id": "cf1526ea",
   "metadata": {},
   "source": [
    "- 초기 Population 안의 각 Chromosome(염색체)을 이용해 선택한 feature를 사용해 linear regression에 fitting한 결과 계산된 score 값"
   ]
  },
  {
   "cell_type": "code",
   "execution_count": 10,
   "id": "cbe1b402",
   "metadata": {
    "ExecuteTime": {
     "end_time": "2022-10-13T11:35:59.558942Z",
     "start_time": "2022-10-13T11:35:59.544378Z"
    }
   },
   "outputs": [
    {
     "data": {
      "text/plain": [
       "[0.2550839220022102,\n",
       " 0.14973189332883674,\n",
       " 0.2392741043659684,\n",
       " 0.1909470547449078,\n",
       " 0.2411152064888914,\n",
       " 0.2532582257729059,\n",
       " 0.23922525147525453,\n",
       " 0.15012246741890167,\n",
       " 0.31962421945555297,\n",
       " 0.2927755457855141,\n",
       " 0.3331773642854555,\n",
       " 0.24067281949797437,\n",
       " 0.2712127132556066,\n",
       " 0.14979624462440966,\n",
       " 0.25565906130643223,\n",
       " 0.2792217130388823,\n",
       " 0.1772247773534783,\n",
       " 0.33248794705947504,\n",
       " 0.2460952382912821,\n",
       " 0.3041370549225161,\n",
       " 0.24060455554179416,\n",
       " 0.2578800138915215,\n",
       " 0.31957611319359525,\n",
       " 0.24800014065795173,\n",
       " 0.331066034170035,\n",
       " 0.21367383564017073,\n",
       " 0.29193432002805253,\n",
       " 0.2565700896083707,\n",
       " 0.30270308978100635,\n",
       " 0.2823819948840933]"
      ]
     },
     "execution_count": 10,
     "metadata": {},
     "output_type": "execute_result"
    }
   ],
   "source": [
    "scores_chromosome"
   ]
  },
  {
   "cell_type": "markdown",
   "id": "ab801c7e",
   "metadata": {},
   "source": [
    "### Step 4. Select Parent Chromosome"
   ]
  },
  {
   "cell_type": "markdown",
   "id": "fb18e108",
   "metadata": {},
   "source": [
    "- Selection, Deterministic(단순 rank만 고려)/Probabilistic(확률값 고려) selection이 존재\n",
    "- Score를 기반으로 Parent Chromosome을 선택하고, 본 실험에서는 구성된 Population의 상위 50%만을 Parent로 선택합니다."
   ]
  },
  {
   "cell_type": "code",
   "execution_count": 11,
   "id": "fa5a280a",
   "metadata": {
    "ExecuteTime": {
     "end_time": "2022-10-13T11:35:59.573927Z",
     "start_time": "2022-10-13T11:35:59.559941Z"
    }
   },
   "outputs": [],
   "source": [
    "# Step 4. Select Parent Chromosome\n",
    "num_deterministic_selection = int(np.round(num_population * 0.5))\n",
    "\n",
    "parent_chromosome_index = np.array(scores_chromosome).argsort()[-num_deterministic_selection:]\n",
    "# best_parent_chromosome_index = np.array(scores_chromosome).argsort()[-1]\n",
    "\n",
    "candidate_parent_chromosome = np.array(population)[parent_chromosome_index]\n",
    "candidate_parent_score = np.array(scores_chromosome)[parent_chromosome_index]\n",
    "curr_best_parent_chromosome = np.array(population)[parent_chromosome_index][-1]\n",
    "curr_best_parent_score = np.array(scores_chromosome)[parent_chromosome_index][-1]"
   ]
  },
  {
   "cell_type": "code",
   "execution_count": 12,
   "id": "4474fcab",
   "metadata": {
    "ExecuteTime": {
     "end_time": "2022-10-13T11:35:59.588756Z",
     "start_time": "2022-10-13T11:35:59.574926Z"
    }
   },
   "outputs": [
    {
     "name": "stdout",
     "output_type": "stream",
     "text": [
      "[1 0 0 0 1 0 1 0 0 1 1 1]\n",
      "0.3331773642854555\n"
     ]
    }
   ],
   "source": [
    "print(curr_best_parent_chromosome)\n",
    "print(curr_best_parent_score)"
   ]
  },
  {
   "cell_type": "markdown",
   "id": "4e3a9680",
   "metadata": {},
   "source": [
    "### Step 5. Crossover, Step 6. Mutation - Generation Iteration"
   ]
  },
  {
   "cell_type": "markdown",
   "id": "46adbdb8",
   "metadata": {},
   "source": [
    "- Generation Iteration을 통하여 Crossover와 Mutation을 동시에 진행\n",
    "- 새로운 Child Chromosome으로 구성된 Population을 만들어냄\n",
    "- 가장 좋은 Best(Elite) Chromosome은 Population에 항상 1개를 추가함\n",
    "\n",
    "Crossover(교배) & Mutation(돌연변이), 두 자식 염색체에서의 교배 및 돌연변이  diversity 증가\n",
    "Final the best variable subset, 적합도가 가장 높은 염색체만은 선택함"
   ]
  },
  {
   "cell_type": "code",
   "execution_count": 13,
   "id": "aad3c428",
   "metadata": {
    "ExecuteTime": {
     "end_time": "2022-10-13T11:37:15.887049Z",
     "start_time": "2022-10-13T11:35:59.589755Z"
    }
   },
   "outputs": [
    {
     "name": "stdout",
     "output_type": "stream",
     "text": [
      "best parent score :  0.3878082388952133\n"
     ]
    }
   ],
   "source": [
    "max_generation = 1000\n",
    "score_history = []\n",
    "\n",
    "\n",
    "for generation in range(max_generation):\n",
    "    childs = []\n",
    "    childs.append(curr_best_parent_chromosome) # Best는 무조건 1개 넣어준다.\n",
    "\n",
    "    while len(childs) < num_population :\n",
    "        # 현재의 선택된 Best Parenet 중에서 random으로 좋은 애들 2개를 선택함\n",
    "        select_2 = random.sample(list(range(len(candidate_parent_score))), 2)\n",
    "        winner_p1 = candidate_parent_chromosome[min(select_2, key=lambda idx: candidate_parent_score[idx])]\n",
    "\n",
    "        select_2 = random.sample(list(range(len(candidate_parent_score))), 2)\n",
    "        winner_p2 = candidate_parent_chromosome[min(select_2, key=lambda idx: candidate_parent_score[idx])]\n",
    "        \n",
    "        # cross-over\n",
    "        c1 = []\n",
    "        c2 = []\n",
    "        for i in range(len(winner_p1)):\n",
    "            if random.random() < 0.5: # Random Crossover (50%)\n",
    "                c1.append(winner_p1[i])\n",
    "                c2.append(winner_p2[i])\n",
    "            else:\n",
    "                c1.append(winner_p2[i])\n",
    "                c2.append(winner_p1[i])\n",
    "        \n",
    "        # mutation\n",
    "        if random.random() <= 0.2:\n",
    "            idx_mutation = random.randrange(0,len(c1))\n",
    "            c1[idx_mutation] = 1 - c1[idx_mutation]\n",
    "        if random.random() <= 0.2:\n",
    "            idx_mutation = random.randrange(0,len(c2))\n",
    "            c2[idx_mutation] = 1 - c2[idx_mutation]\n",
    "        \n",
    "        childs.append(c1)\n",
    "        if len(childs) < num_population:\n",
    "            childs.append(c2)\n",
    "    \n",
    "\n",
    "\n",
    "    score_history.append([generation, np.max(scores_chromosome), np.std(scores_chromosome)])\n",
    "\n",
    "    population = childs \n",
    "    scores_chromosome = fitness_score(population)    \n",
    "    \n",
    "    num_deterministic_selection = int(np.round(num_population * 0.5))\n",
    "\n",
    "    parent_chromosome_index = np.array(scores_chromosome).argsort()[-num_deterministic_selection:]\n",
    "\n",
    "    candidate_parent_chromosome = np.array(population)[parent_chromosome_index]\n",
    "    candidate_parent_score = np.array(scores_chromosome)[parent_chromosome_index]\n",
    "\n",
    "    curr_best_parent_chromosome = np.array(population)[parent_chromosome_index][-1]\n",
    "    curr_best_parent_score = np.array(scores_chromosome)[parent_chromosome_index][-1]\n",
    "\n",
    "\n",
    "print(\"best parent score : \", curr_best_parent_score)\n",
    "\n",
    "best_index = np.argmax(candidate_parent_score)\n",
    "best_score = candidate_parent_score[best_index]\n",
    "best_parent_chromosome = candidate_parent_chromosome[best_index]"
   ]
  },
  {
   "cell_type": "markdown",
   "id": "604751aa",
   "metadata": {},
   "source": [
    "- Scoe History를 저장\n",
    "- Best Chromosome을 찾아서, 해당 Score를 출력하고 선택된 Feature를 표현한다."
   ]
  },
  {
   "cell_type": "code",
   "execution_count": 14,
   "id": "c9ef0589",
   "metadata": {
    "ExecuteTime": {
     "end_time": "2022-10-13T11:37:15.901999Z",
     "start_time": "2022-10-13T11:37:15.888046Z"
    }
   },
   "outputs": [],
   "source": [
    "score_history = np.array(score_history)"
   ]
  },
  {
   "cell_type": "code",
   "execution_count": 15,
   "id": "3b478ab3",
   "metadata": {
    "ExecuteTime": {
     "end_time": "2022-10-13T11:37:15.916949Z",
     "start_time": "2022-10-13T11:37:15.902997Z"
    }
   },
   "outputs": [
    {
     "name": "stdout",
     "output_type": "stream",
     "text": [
      "Best Score : 0.3878082388952133\n",
      "Best Parent Chromosome : [1 0 0 1 1 1 1 1 1 1 1 1]\n"
     ]
    }
   ],
   "source": [
    "print(f'Best Score : {best_score}')\n",
    "print(f'Best Parent Chromosome : {best_parent_chromosome}')"
   ]
  },
  {
   "cell_type": "markdown",
   "id": "b74f4275",
   "metadata": {},
   "source": [
    "# Classification part"
   ]
  },
  {
   "cell_type": "markdown",
   "id": "0bc7349a",
   "metadata": {},
   "source": [
    "- 위 회귀 파트에서는 설명을 위해 예시를 하나씩 보여주는 형태로 진행했다면,\n",
    "- 본 예제에서는 다양한 모델을 사용했을 때 GA의 변수선택법으로 인해 얻는 장점과 관련하여 소개함"
   ]
  },
  {
   "cell_type": "markdown",
   "id": "513af9b2",
   "metadata": {},
   "source": [
    "## import module"
   ]
  },
  {
   "cell_type": "code",
   "execution_count": 17,
   "id": "d71a6cae",
   "metadata": {
    "ExecuteTime": {
     "end_time": "2022-10-13T11:37:16.021916Z",
     "start_time": "2022-10-13T11:37:15.977747Z"
    }
   },
   "outputs": [],
   "source": [
    "from sklearn import svm\n",
    "from sklearn.linear_model import LogisticRegression\n",
    "from sklearn.ensemble import RandomForestClassifier, AdaBoostClassifier\n",
    "from sklearn.tree import DecisionTreeClassifier\n",
    "from sklearn.neighbors import KNeighborsClassifier\n",
    "from sklearn.ensemble import GradientBoostingClassifier\n",
    "from sklearn import metrics\n",
    "from sklearn.metrics import accuracy_score\n",
    "from sklearn.model_selection import KFold, cross_val_score"
   ]
  },
  {
   "cell_type": "markdown",
   "id": "51a9a54e",
   "metadata": {},
   "source": [
    "## 분류 모델 선택 및 parameter 설정"
   ]
  },
  {
   "cell_type": "code",
   "execution_count": 18,
   "id": "e3f5958c",
   "metadata": {
    "ExecuteTime": {
     "end_time": "2022-10-13T11:37:16.036599Z",
     "start_time": "2022-10-13T11:37:16.022916Z"
    }
   },
   "outputs": [],
   "source": [
    "classifiers = ['LinearSVM', 'RadialSVM', \n",
    "               'Logistic',  'RandomForest', \n",
    "               'AdaBoost',  'DecisionTree', \n",
    "               'KNeighbors','GradientBoosting']\n",
    "\n",
    "models = [svm.SVC(kernel='linear'),\n",
    "          svm.SVC(kernel='rbf'),\n",
    "          LogisticRegression(max_iter = 1000),\n",
    "          RandomForestClassifier(n_estimators=200, random_state=0),\n",
    "          AdaBoostClassifier(random_state = 0),\n",
    "          DecisionTreeClassifier(random_state=0),\n",
    "          KNeighborsClassifier(),\n",
    "          GradientBoostingClassifier(random_state=0)]"
   ]
  },
  {
   "cell_type": "markdown",
   "id": "a524c8bf",
   "metadata": {},
   "source": [
    "#### 0. acc_score():\n",
    "Returns accuracy for all the classifiers."
   ]
  },
  {
   "cell_type": "code",
   "execution_count": 19,
   "id": "877bc5e5",
   "metadata": {
    "ExecuteTime": {
     "end_time": "2022-10-13T11:37:16.051550Z",
     "start_time": "2022-10-13T11:37:16.037597Z"
    }
   },
   "outputs": [],
   "source": [
    "def acc_score(df,label):\n",
    "    Score = pd.DataFrame({\"Classifier\":classifiers})\n",
    "    j = 0\n",
    "    acc = []\n",
    "    X_train,X_test,Y_train,Y_test = split(df,label)\n",
    "    for i in models:\n",
    "        model = i\n",
    "        model.fit(X_train,Y_train)\n",
    "        predictions = model.predict(X_test)\n",
    "        acc.append(accuracy_score(Y_test,predictions))\n",
    "        j = j+1     \n",
    "    Score[\"Accuracy\"] = acc\n",
    "    Score.sort_values(by=\"Accuracy\", ascending=False,inplace = True)\n",
    "    Score.reset_index(drop=True, inplace=True)\n",
    "    return Score"
   ]
  },
  {
   "cell_type": "markdown",
   "id": "ba572562",
   "metadata": {},
   "source": [
    "### GA 결과 세대별 Accuracy 값 plotting"
   ]
  },
  {
   "cell_type": "code",
   "execution_count": 20,
   "id": "2d7b679c",
   "metadata": {
    "ExecuteTime": {
     "end_time": "2022-10-13T11:37:16.066577Z",
     "start_time": "2022-10-13T11:37:16.052547Z"
    }
   },
   "outputs": [],
   "source": [
    "def plot(score, x, y, c = \"b\"):\n",
    "    gen = list(np.arange(1,11))\n",
    "    plt.figure(figsize=(6,4))\n",
    "    ax = sns.pointplot(x=gen, y=score, color = c )\n",
    "    ax.set(xlabel=\"Generation\", ylabel=\"Accuracy\")\n",
    "    ax.set(ylim=(x,y))"
   ]
  },
  {
   "cell_type": "markdown",
   "id": "d903a7f9",
   "metadata": {},
   "source": [
    "#### 1. initilization_of_population():\n",
    "To initialize a random population."
   ]
  },
  {
   "cell_type": "code",
   "execution_count": 21,
   "id": "bc2cc2b1",
   "metadata": {
    "ExecuteTime": {
     "end_time": "2022-10-13T11:37:16.081916Z",
     "start_time": "2022-10-13T11:37:16.067575Z"
    }
   },
   "outputs": [],
   "source": [
    "def initilization_of_population(size,n_feat):\n",
    "    population = []\n",
    "    for i in range(size):\n",
    "        chromosome = np.ones(n_feat,dtype=np.bool)     \n",
    "        chromosome[:int(0.3*n_feat)]=False             \n",
    "        np.random.shuffle(chromosome)\n",
    "        population.append(chromosome)\n",
    "    return population"
   ]
  },
  {
   "cell_type": "markdown",
   "id": "9160282d",
   "metadata": {},
   "source": [
    "#### 2. fitness_score():\n",
    "Returns the best parents along with their score."
   ]
  },
  {
   "cell_type": "code",
   "execution_count": 22,
   "id": "43237a8c",
   "metadata": {
    "ExecuteTime": {
     "end_time": "2022-10-13T11:37:16.096854Z",
     "start_time": "2022-10-13T11:37:16.081916Z"
    }
   },
   "outputs": [],
   "source": [
    "def fitness_score(population):\n",
    "    scores = []\n",
    "    for chromosome in population:\n",
    "        logmodel.fit(X_train.iloc[:,chromosome],Y_train)         \n",
    "        predictions = logmodel.predict(X_test.iloc[:,chromosome])\n",
    "        scores.append(accuracy_score(Y_test,predictions))\n",
    "    scores, population = np.array(scores), np.array(population) \n",
    "    inds = np.argsort(scores)                                    \n",
    "    return list(scores[inds][::-1]), list(population[inds,:][::-1])"
   ]
  },
  {
   "cell_type": "markdown",
   "id": "21152ee8",
   "metadata": {},
   "source": [
    "#### 3. selection():\n",
    "Selection of the best parents."
   ]
  },
  {
   "cell_type": "code",
   "execution_count": 23,
   "id": "7957b149",
   "metadata": {
    "ExecuteTime": {
     "end_time": "2022-10-13T11:37:16.111838Z",
     "start_time": "2022-10-13T11:37:16.096854Z"
    }
   },
   "outputs": [],
   "source": [
    "def selection(pop_after_fit,n_parents):\n",
    "    population_nextgen = []\n",
    "    for i in range(n_parents):\n",
    "        population_nextgen.append(pop_after_fit[i])\n",
    "    return population_nextgen"
   ]
  },
  {
   "cell_type": "markdown",
   "id": "7d6bf302",
   "metadata": {},
   "source": [
    "#### 4. crossover():\n",
    "Picks half of the first parent and half of the second parent."
   ]
  },
  {
   "cell_type": "code",
   "execution_count": 24,
   "id": "c6f76c0b",
   "metadata": {
    "ExecuteTime": {
     "end_time": "2022-10-13T11:37:16.126838Z",
     "start_time": "2022-10-13T11:37:16.112835Z"
    }
   },
   "outputs": [],
   "source": [
    "def crossover(pop_after_sel):\n",
    "    pop_nextgen = pop_after_sel\n",
    "    for i in range(0,len(pop_after_sel),2):\n",
    "        new_par = []\n",
    "        child_1 , child_2 = pop_nextgen[i] , pop_nextgen[i+1]\n",
    "        new_par = np.concatenate((child_1[:len(child_1)//2],child_2[len(child_1)//2:]))\n",
    "        pop_nextgen.append(new_par)\n",
    "    return pop_nextgen"
   ]
  },
  {
   "cell_type": "markdown",
   "id": "076e3c5c",
   "metadata": {},
   "source": [
    "#### 5. mutation():\n",
    "Randomly flips selected bits from the crossover child."
   ]
  },
  {
   "cell_type": "code",
   "execution_count": 25,
   "id": "29f08f50",
   "metadata": {
    "ExecuteTime": {
     "end_time": "2022-10-13T11:37:16.142434Z",
     "start_time": "2022-10-13T11:37:16.127835Z"
    }
   },
   "outputs": [],
   "source": [
    "def mutation(pop_after_cross,mutation_rate,n_feat):   \n",
    "    mutation_range = int(mutation_rate*n_feat)\n",
    "    pop_next_gen = []\n",
    "    for n in range(0,len(pop_after_cross)):\n",
    "        chromo = pop_after_cross[n]\n",
    "        rand_posi = [] \n",
    "        for i in range(0,mutation_range):\n",
    "            pos = randint(0,n_feat-1)\n",
    "            rand_posi.append(pos)\n",
    "        for j in rand_posi:\n",
    "            chromo[j] = not chromo[j]  \n",
    "        pop_next_gen.append(chromo)\n",
    "    return pop_next_gen"
   ]
  },
  {
   "cell_type": "markdown",
   "id": "6d0c6ef7",
   "metadata": {},
   "source": [
    "#### 6. generations():\n",
    "Executes all the above functions for the specified number of generations"
   ]
  },
  {
   "cell_type": "code",
   "execution_count": 26,
   "id": "1af250d1",
   "metadata": {
    "ExecuteTime": {
     "end_time": "2022-10-13T11:37:16.157222Z",
     "start_time": "2022-10-13T11:37:16.143431Z"
    }
   },
   "outputs": [],
   "source": [
    "def generations(df,label,size,n_feat,n_parents,mutation_rate,n_gen,X_train,X_test, Y_train, Y_test):\n",
    "    best_chromo= []\n",
    "    best_score= []\n",
    "    population_nextgen=initilization_of_population(size,n_feat)\n",
    "    for i in range(n_gen):\n",
    "        scores, pop_after_fit = fitness_score(population_nextgen)\n",
    "        print('Best score in generation',i+1,':',scores[:1])  #2\n",
    "        pop_after_sel = selection(pop_after_fit,n_parents)\n",
    "        pop_after_cross = crossover(pop_after_sel)\n",
    "        population_nextgen = mutation(pop_after_cross,mutation_rate,n_feat)\n",
    "        best_chromo.append(pop_after_fit[0])\n",
    "        best_score.append(scores[0])\n",
    "    return best_chromo,best_score"
   ]
  },
  {
   "cell_type": "markdown",
   "id": "b90dafe9",
   "metadata": {},
   "source": [
    "## Load Wisconsin Breast Cancer Dataset & Preprocessing"
   ]
  },
  {
   "cell_type": "markdown",
   "id": "fa498ecf",
   "metadata": {},
   "source": [
    "- classification case를 위해 Wisconsin Breast Cancer Dataset 사용 (Kaggle dataset)\n",
    "- feature: ['radius_mean', 'texture_mean', 'perimeter_mean', 'area_mean', 'smoothness_mean', 'compactness_mean', 'concavity_mean', 'concave points_mean', 'symmetry_mean', 'fractal_dimension_mean', 'radius_se', 'texture_se', 'perimeter_se', 'area_se', 'smoothness_se', 'compactness_se', 'concavity_se', 'concave points_se', 'symmetry_se', 'fractal_dimension_se', 'radius_worst', 'texture_worst', 'perimeter_worst', 'area_worst', 'smoothness_worst', 'compactness_worst', 'concavity_worst', 'concave points_worst', 'symmetry_worst', 'fractal_dimension_worst']\n",
    "- target: [\"diagnosis\"]"
   ]
  },
  {
   "cell_type": "code",
   "execution_count": 27,
   "id": "b61a7d22",
   "metadata": {
    "ExecuteTime": {
     "end_time": "2022-10-13T11:37:16.172126Z",
     "start_time": "2022-10-13T11:37:16.159217Z"
    },
    "scrolled": true
   },
   "outputs": [
    {
     "name": "stdout",
     "output_type": "stream",
     "text": [
      "Breast Cancer dataset:\n",
      " 569 Records\n",
      " 30 Features\n"
     ]
    }
   ],
   "source": [
    "data_bc = pd.read_csv(\"breast_cancer_wisconsin_data.csv\")\n",
    "label_bc = data_bc[\"diagnosis\"]\n",
    "label_bc = np.where(label_bc == 'M',1,0)\n",
    "data_bc.drop([\"id\",\"diagnosis\",\"Unnamed: 32\"],axis = 1,inplace = True)\n",
    "\n",
    "print(\"Breast Cancer dataset:\\n\",data_bc.shape[0],\"Records\\n\",data_bc.shape[1],\"Features\")"
   ]
  },
  {
   "cell_type": "markdown",
   "id": "ccdfc187",
   "metadata": {},
   "source": [
    "- 모든 변수가 연속형 변수임을 확인"
   ]
  },
  {
   "cell_type": "code",
   "execution_count": 28,
   "id": "c70fda69",
   "metadata": {
    "ExecuteTime": {
     "end_time": "2022-10-13T11:37:16.187077Z",
     "start_time": "2022-10-13T11:37:16.173124Z"
    },
    "scrolled": false
   },
   "outputs": [
    {
     "data": {
      "text/html": [
       "<div>\n",
       "<style scoped>\n",
       "    .dataframe tbody tr th:only-of-type {\n",
       "        vertical-align: middle;\n",
       "    }\n",
       "\n",
       "    .dataframe tbody tr th {\n",
       "        vertical-align: top;\n",
       "    }\n",
       "\n",
       "    .dataframe thead th {\n",
       "        text-align: right;\n",
       "    }\n",
       "</style>\n",
       "<table border=\"1\" class=\"dataframe\">\n",
       "  <thead>\n",
       "    <tr style=\"text-align: right;\">\n",
       "      <th></th>\n",
       "      <th>radius_mean</th>\n",
       "      <th>texture_mean</th>\n",
       "      <th>perimeter_mean</th>\n",
       "      <th>area_mean</th>\n",
       "      <th>smoothness_mean</th>\n",
       "      <th>compactness_mean</th>\n",
       "      <th>concavity_mean</th>\n",
       "      <th>concave points_mean</th>\n",
       "      <th>symmetry_mean</th>\n",
       "      <th>fractal_dimension_mean</th>\n",
       "      <th>...</th>\n",
       "      <th>radius_worst</th>\n",
       "      <th>texture_worst</th>\n",
       "      <th>perimeter_worst</th>\n",
       "      <th>area_worst</th>\n",
       "      <th>smoothness_worst</th>\n",
       "      <th>compactness_worst</th>\n",
       "      <th>concavity_worst</th>\n",
       "      <th>concave points_worst</th>\n",
       "      <th>symmetry_worst</th>\n",
       "      <th>fractal_dimension_worst</th>\n",
       "    </tr>\n",
       "  </thead>\n",
       "  <tbody>\n",
       "    <tr>\n",
       "      <th>0</th>\n",
       "      <td>17.99</td>\n",
       "      <td>10.38</td>\n",
       "      <td>122.80</td>\n",
       "      <td>1001.0</td>\n",
       "      <td>0.11840</td>\n",
       "      <td>0.27760</td>\n",
       "      <td>0.3001</td>\n",
       "      <td>0.14710</td>\n",
       "      <td>0.2419</td>\n",
       "      <td>0.07871</td>\n",
       "      <td>...</td>\n",
       "      <td>25.38</td>\n",
       "      <td>17.33</td>\n",
       "      <td>184.60</td>\n",
       "      <td>2019.0</td>\n",
       "      <td>0.1622</td>\n",
       "      <td>0.6656</td>\n",
       "      <td>0.7119</td>\n",
       "      <td>0.2654</td>\n",
       "      <td>0.4601</td>\n",
       "      <td>0.11890</td>\n",
       "    </tr>\n",
       "    <tr>\n",
       "      <th>1</th>\n",
       "      <td>20.57</td>\n",
       "      <td>17.77</td>\n",
       "      <td>132.90</td>\n",
       "      <td>1326.0</td>\n",
       "      <td>0.08474</td>\n",
       "      <td>0.07864</td>\n",
       "      <td>0.0869</td>\n",
       "      <td>0.07017</td>\n",
       "      <td>0.1812</td>\n",
       "      <td>0.05667</td>\n",
       "      <td>...</td>\n",
       "      <td>24.99</td>\n",
       "      <td>23.41</td>\n",
       "      <td>158.80</td>\n",
       "      <td>1956.0</td>\n",
       "      <td>0.1238</td>\n",
       "      <td>0.1866</td>\n",
       "      <td>0.2416</td>\n",
       "      <td>0.1860</td>\n",
       "      <td>0.2750</td>\n",
       "      <td>0.08902</td>\n",
       "    </tr>\n",
       "    <tr>\n",
       "      <th>2</th>\n",
       "      <td>19.69</td>\n",
       "      <td>21.25</td>\n",
       "      <td>130.00</td>\n",
       "      <td>1203.0</td>\n",
       "      <td>0.10960</td>\n",
       "      <td>0.15990</td>\n",
       "      <td>0.1974</td>\n",
       "      <td>0.12790</td>\n",
       "      <td>0.2069</td>\n",
       "      <td>0.05999</td>\n",
       "      <td>...</td>\n",
       "      <td>23.57</td>\n",
       "      <td>25.53</td>\n",
       "      <td>152.50</td>\n",
       "      <td>1709.0</td>\n",
       "      <td>0.1444</td>\n",
       "      <td>0.4245</td>\n",
       "      <td>0.4504</td>\n",
       "      <td>0.2430</td>\n",
       "      <td>0.3613</td>\n",
       "      <td>0.08758</td>\n",
       "    </tr>\n",
       "    <tr>\n",
       "      <th>3</th>\n",
       "      <td>11.42</td>\n",
       "      <td>20.38</td>\n",
       "      <td>77.58</td>\n",
       "      <td>386.1</td>\n",
       "      <td>0.14250</td>\n",
       "      <td>0.28390</td>\n",
       "      <td>0.2414</td>\n",
       "      <td>0.10520</td>\n",
       "      <td>0.2597</td>\n",
       "      <td>0.09744</td>\n",
       "      <td>...</td>\n",
       "      <td>14.91</td>\n",
       "      <td>26.50</td>\n",
       "      <td>98.87</td>\n",
       "      <td>567.7</td>\n",
       "      <td>0.2098</td>\n",
       "      <td>0.8663</td>\n",
       "      <td>0.6869</td>\n",
       "      <td>0.2575</td>\n",
       "      <td>0.6638</td>\n",
       "      <td>0.17300</td>\n",
       "    </tr>\n",
       "    <tr>\n",
       "      <th>4</th>\n",
       "      <td>20.29</td>\n",
       "      <td>14.34</td>\n",
       "      <td>135.10</td>\n",
       "      <td>1297.0</td>\n",
       "      <td>0.10030</td>\n",
       "      <td>0.13280</td>\n",
       "      <td>0.1980</td>\n",
       "      <td>0.10430</td>\n",
       "      <td>0.1809</td>\n",
       "      <td>0.05883</td>\n",
       "      <td>...</td>\n",
       "      <td>22.54</td>\n",
       "      <td>16.67</td>\n",
       "      <td>152.20</td>\n",
       "      <td>1575.0</td>\n",
       "      <td>0.1374</td>\n",
       "      <td>0.2050</td>\n",
       "      <td>0.4000</td>\n",
       "      <td>0.1625</td>\n",
       "      <td>0.2364</td>\n",
       "      <td>0.07678</td>\n",
       "    </tr>\n",
       "  </tbody>\n",
       "</table>\n",
       "<p>5 rows × 30 columns</p>\n",
       "</div>"
      ],
      "text/plain": [
       "   radius_mean  texture_mean  perimeter_mean  area_mean  smoothness_mean  \\\n",
       "0        17.99         10.38          122.80     1001.0          0.11840   \n",
       "1        20.57         17.77          132.90     1326.0          0.08474   \n",
       "2        19.69         21.25          130.00     1203.0          0.10960   \n",
       "3        11.42         20.38           77.58      386.1          0.14250   \n",
       "4        20.29         14.34          135.10     1297.0          0.10030   \n",
       "\n",
       "   compactness_mean  concavity_mean  concave points_mean  symmetry_mean  \\\n",
       "0           0.27760          0.3001              0.14710         0.2419   \n",
       "1           0.07864          0.0869              0.07017         0.1812   \n",
       "2           0.15990          0.1974              0.12790         0.2069   \n",
       "3           0.28390          0.2414              0.10520         0.2597   \n",
       "4           0.13280          0.1980              0.10430         0.1809   \n",
       "\n",
       "   fractal_dimension_mean  ...  radius_worst  texture_worst  perimeter_worst  \\\n",
       "0                 0.07871  ...         25.38          17.33           184.60   \n",
       "1                 0.05667  ...         24.99          23.41           158.80   \n",
       "2                 0.05999  ...         23.57          25.53           152.50   \n",
       "3                 0.09744  ...         14.91          26.50            98.87   \n",
       "4                 0.05883  ...         22.54          16.67           152.20   \n",
       "\n",
       "   area_worst  smoothness_worst  compactness_worst  concavity_worst  \\\n",
       "0      2019.0            0.1622             0.6656           0.7119   \n",
       "1      1956.0            0.1238             0.1866           0.2416   \n",
       "2      1709.0            0.1444             0.4245           0.4504   \n",
       "3       567.7            0.2098             0.8663           0.6869   \n",
       "4      1575.0            0.1374             0.2050           0.4000   \n",
       "\n",
       "   concave points_worst  symmetry_worst  fractal_dimension_worst  \n",
       "0                0.2654          0.4601                  0.11890  \n",
       "1                0.1860          0.2750                  0.08902  \n",
       "2                0.2430          0.3613                  0.08758  \n",
       "3                0.2575          0.6638                  0.17300  \n",
       "4                0.1625          0.2364                  0.07678  \n",
       "\n",
       "[5 rows x 30 columns]"
      ]
     },
     "metadata": {},
     "output_type": "display_data"
    }
   ],
   "source": [
    "display(data_bc.head())"
   ]
  },
  {
   "cell_type": "code",
   "execution_count": 29,
   "id": "5402e87a",
   "metadata": {
    "ExecuteTime": {
     "end_time": "2022-10-13T11:37:16.216977Z",
     "start_time": "2022-10-13T11:37:16.188073Z"
    }
   },
   "outputs": [
    {
     "data": {
      "text/html": [
       "<div>\n",
       "<style scoped>\n",
       "    .dataframe tbody tr th:only-of-type {\n",
       "        vertical-align: middle;\n",
       "    }\n",
       "\n",
       "    .dataframe tbody tr th {\n",
       "        vertical-align: top;\n",
       "    }\n",
       "\n",
       "    .dataframe thead th {\n",
       "        text-align: right;\n",
       "    }\n",
       "</style>\n",
       "<table border=\"1\" class=\"dataframe\">\n",
       "  <thead>\n",
       "    <tr style=\"text-align: right;\">\n",
       "      <th></th>\n",
       "      <th>radius_mean</th>\n",
       "      <th>texture_mean</th>\n",
       "      <th>perimeter_mean</th>\n",
       "      <th>area_mean</th>\n",
       "      <th>smoothness_mean</th>\n",
       "      <th>compactness_mean</th>\n",
       "      <th>concavity_mean</th>\n",
       "      <th>concave points_mean</th>\n",
       "      <th>symmetry_mean</th>\n",
       "      <th>fractal_dimension_mean</th>\n",
       "      <th>...</th>\n",
       "      <th>radius_worst</th>\n",
       "      <th>texture_worst</th>\n",
       "      <th>perimeter_worst</th>\n",
       "      <th>area_worst</th>\n",
       "      <th>smoothness_worst</th>\n",
       "      <th>compactness_worst</th>\n",
       "      <th>concavity_worst</th>\n",
       "      <th>concave points_worst</th>\n",
       "      <th>symmetry_worst</th>\n",
       "      <th>fractal_dimension_worst</th>\n",
       "    </tr>\n",
       "  </thead>\n",
       "  <tbody>\n",
       "    <tr>\n",
       "      <th>count</th>\n",
       "      <td>569.000000</td>\n",
       "      <td>569.000000</td>\n",
       "      <td>569.000000</td>\n",
       "      <td>569.000000</td>\n",
       "      <td>569.000000</td>\n",
       "      <td>569.000000</td>\n",
       "      <td>569.000000</td>\n",
       "      <td>569.000000</td>\n",
       "      <td>569.000000</td>\n",
       "      <td>569.000000</td>\n",
       "      <td>...</td>\n",
       "      <td>569.000000</td>\n",
       "      <td>569.000000</td>\n",
       "      <td>569.000000</td>\n",
       "      <td>569.000000</td>\n",
       "      <td>569.000000</td>\n",
       "      <td>569.000000</td>\n",
       "      <td>569.000000</td>\n",
       "      <td>569.000000</td>\n",
       "      <td>569.000000</td>\n",
       "      <td>569.000000</td>\n",
       "    </tr>\n",
       "    <tr>\n",
       "      <th>mean</th>\n",
       "      <td>14.127292</td>\n",
       "      <td>19.289649</td>\n",
       "      <td>91.969033</td>\n",
       "      <td>654.889104</td>\n",
       "      <td>0.096360</td>\n",
       "      <td>0.104341</td>\n",
       "      <td>0.088799</td>\n",
       "      <td>0.048919</td>\n",
       "      <td>0.181162</td>\n",
       "      <td>0.062798</td>\n",
       "      <td>...</td>\n",
       "      <td>16.269190</td>\n",
       "      <td>25.677223</td>\n",
       "      <td>107.261213</td>\n",
       "      <td>880.583128</td>\n",
       "      <td>0.132369</td>\n",
       "      <td>0.254265</td>\n",
       "      <td>0.272188</td>\n",
       "      <td>0.114606</td>\n",
       "      <td>0.290076</td>\n",
       "      <td>0.083946</td>\n",
       "    </tr>\n",
       "    <tr>\n",
       "      <th>std</th>\n",
       "      <td>3.524049</td>\n",
       "      <td>4.301036</td>\n",
       "      <td>24.298981</td>\n",
       "      <td>351.914129</td>\n",
       "      <td>0.014064</td>\n",
       "      <td>0.052813</td>\n",
       "      <td>0.079720</td>\n",
       "      <td>0.038803</td>\n",
       "      <td>0.027414</td>\n",
       "      <td>0.007060</td>\n",
       "      <td>...</td>\n",
       "      <td>4.833242</td>\n",
       "      <td>6.146258</td>\n",
       "      <td>33.602542</td>\n",
       "      <td>569.356993</td>\n",
       "      <td>0.022832</td>\n",
       "      <td>0.157336</td>\n",
       "      <td>0.208624</td>\n",
       "      <td>0.065732</td>\n",
       "      <td>0.061867</td>\n",
       "      <td>0.018061</td>\n",
       "    </tr>\n",
       "    <tr>\n",
       "      <th>min</th>\n",
       "      <td>6.981000</td>\n",
       "      <td>9.710000</td>\n",
       "      <td>43.790000</td>\n",
       "      <td>143.500000</td>\n",
       "      <td>0.052630</td>\n",
       "      <td>0.019380</td>\n",
       "      <td>0.000000</td>\n",
       "      <td>0.000000</td>\n",
       "      <td>0.106000</td>\n",
       "      <td>0.049960</td>\n",
       "      <td>...</td>\n",
       "      <td>7.930000</td>\n",
       "      <td>12.020000</td>\n",
       "      <td>50.410000</td>\n",
       "      <td>185.200000</td>\n",
       "      <td>0.071170</td>\n",
       "      <td>0.027290</td>\n",
       "      <td>0.000000</td>\n",
       "      <td>0.000000</td>\n",
       "      <td>0.156500</td>\n",
       "      <td>0.055040</td>\n",
       "    </tr>\n",
       "    <tr>\n",
       "      <th>25%</th>\n",
       "      <td>11.700000</td>\n",
       "      <td>16.170000</td>\n",
       "      <td>75.170000</td>\n",
       "      <td>420.300000</td>\n",
       "      <td>0.086370</td>\n",
       "      <td>0.064920</td>\n",
       "      <td>0.029560</td>\n",
       "      <td>0.020310</td>\n",
       "      <td>0.161900</td>\n",
       "      <td>0.057700</td>\n",
       "      <td>...</td>\n",
       "      <td>13.010000</td>\n",
       "      <td>21.080000</td>\n",
       "      <td>84.110000</td>\n",
       "      <td>515.300000</td>\n",
       "      <td>0.116600</td>\n",
       "      <td>0.147200</td>\n",
       "      <td>0.114500</td>\n",
       "      <td>0.064930</td>\n",
       "      <td>0.250400</td>\n",
       "      <td>0.071460</td>\n",
       "    </tr>\n",
       "    <tr>\n",
       "      <th>50%</th>\n",
       "      <td>13.370000</td>\n",
       "      <td>18.840000</td>\n",
       "      <td>86.240000</td>\n",
       "      <td>551.100000</td>\n",
       "      <td>0.095870</td>\n",
       "      <td>0.092630</td>\n",
       "      <td>0.061540</td>\n",
       "      <td>0.033500</td>\n",
       "      <td>0.179200</td>\n",
       "      <td>0.061540</td>\n",
       "      <td>...</td>\n",
       "      <td>14.970000</td>\n",
       "      <td>25.410000</td>\n",
       "      <td>97.660000</td>\n",
       "      <td>686.500000</td>\n",
       "      <td>0.131300</td>\n",
       "      <td>0.211900</td>\n",
       "      <td>0.226700</td>\n",
       "      <td>0.099930</td>\n",
       "      <td>0.282200</td>\n",
       "      <td>0.080040</td>\n",
       "    </tr>\n",
       "    <tr>\n",
       "      <th>75%</th>\n",
       "      <td>15.780000</td>\n",
       "      <td>21.800000</td>\n",
       "      <td>104.100000</td>\n",
       "      <td>782.700000</td>\n",
       "      <td>0.105300</td>\n",
       "      <td>0.130400</td>\n",
       "      <td>0.130700</td>\n",
       "      <td>0.074000</td>\n",
       "      <td>0.195700</td>\n",
       "      <td>0.066120</td>\n",
       "      <td>...</td>\n",
       "      <td>18.790000</td>\n",
       "      <td>29.720000</td>\n",
       "      <td>125.400000</td>\n",
       "      <td>1084.000000</td>\n",
       "      <td>0.146000</td>\n",
       "      <td>0.339100</td>\n",
       "      <td>0.382900</td>\n",
       "      <td>0.161400</td>\n",
       "      <td>0.317900</td>\n",
       "      <td>0.092080</td>\n",
       "    </tr>\n",
       "    <tr>\n",
       "      <th>max</th>\n",
       "      <td>28.110000</td>\n",
       "      <td>39.280000</td>\n",
       "      <td>188.500000</td>\n",
       "      <td>2501.000000</td>\n",
       "      <td>0.163400</td>\n",
       "      <td>0.345400</td>\n",
       "      <td>0.426800</td>\n",
       "      <td>0.201200</td>\n",
       "      <td>0.304000</td>\n",
       "      <td>0.097440</td>\n",
       "      <td>...</td>\n",
       "      <td>36.040000</td>\n",
       "      <td>49.540000</td>\n",
       "      <td>251.200000</td>\n",
       "      <td>4254.000000</td>\n",
       "      <td>0.222600</td>\n",
       "      <td>1.058000</td>\n",
       "      <td>1.252000</td>\n",
       "      <td>0.291000</td>\n",
       "      <td>0.663800</td>\n",
       "      <td>0.207500</td>\n",
       "    </tr>\n",
       "  </tbody>\n",
       "</table>\n",
       "<p>8 rows × 30 columns</p>\n",
       "</div>"
      ],
      "text/plain": [
       "       radius_mean  texture_mean  perimeter_mean    area_mean  \\\n",
       "count   569.000000    569.000000      569.000000   569.000000   \n",
       "mean     14.127292     19.289649       91.969033   654.889104   \n",
       "std       3.524049      4.301036       24.298981   351.914129   \n",
       "min       6.981000      9.710000       43.790000   143.500000   \n",
       "25%      11.700000     16.170000       75.170000   420.300000   \n",
       "50%      13.370000     18.840000       86.240000   551.100000   \n",
       "75%      15.780000     21.800000      104.100000   782.700000   \n",
       "max      28.110000     39.280000      188.500000  2501.000000   \n",
       "\n",
       "       smoothness_mean  compactness_mean  concavity_mean  concave points_mean  \\\n",
       "count       569.000000        569.000000      569.000000           569.000000   \n",
       "mean          0.096360          0.104341        0.088799             0.048919   \n",
       "std           0.014064          0.052813        0.079720             0.038803   \n",
       "min           0.052630          0.019380        0.000000             0.000000   \n",
       "25%           0.086370          0.064920        0.029560             0.020310   \n",
       "50%           0.095870          0.092630        0.061540             0.033500   \n",
       "75%           0.105300          0.130400        0.130700             0.074000   \n",
       "max           0.163400          0.345400        0.426800             0.201200   \n",
       "\n",
       "       symmetry_mean  fractal_dimension_mean  ...  radius_worst  \\\n",
       "count     569.000000              569.000000  ...    569.000000   \n",
       "mean        0.181162                0.062798  ...     16.269190   \n",
       "std         0.027414                0.007060  ...      4.833242   \n",
       "min         0.106000                0.049960  ...      7.930000   \n",
       "25%         0.161900                0.057700  ...     13.010000   \n",
       "50%         0.179200                0.061540  ...     14.970000   \n",
       "75%         0.195700                0.066120  ...     18.790000   \n",
       "max         0.304000                0.097440  ...     36.040000   \n",
       "\n",
       "       texture_worst  perimeter_worst   area_worst  smoothness_worst  \\\n",
       "count     569.000000       569.000000   569.000000        569.000000   \n",
       "mean       25.677223       107.261213   880.583128          0.132369   \n",
       "std         6.146258        33.602542   569.356993          0.022832   \n",
       "min        12.020000        50.410000   185.200000          0.071170   \n",
       "25%        21.080000        84.110000   515.300000          0.116600   \n",
       "50%        25.410000        97.660000   686.500000          0.131300   \n",
       "75%        29.720000       125.400000  1084.000000          0.146000   \n",
       "max        49.540000       251.200000  4254.000000          0.222600   \n",
       "\n",
       "       compactness_worst  concavity_worst  concave points_worst  \\\n",
       "count         569.000000       569.000000            569.000000   \n",
       "mean            0.254265         0.272188              0.114606   \n",
       "std             0.157336         0.208624              0.065732   \n",
       "min             0.027290         0.000000              0.000000   \n",
       "25%             0.147200         0.114500              0.064930   \n",
       "50%             0.211900         0.226700              0.099930   \n",
       "75%             0.339100         0.382900              0.161400   \n",
       "max             1.058000         1.252000              0.291000   \n",
       "\n",
       "       symmetry_worst  fractal_dimension_worst  \n",
       "count      569.000000               569.000000  \n",
       "mean         0.290076                 0.083946  \n",
       "std          0.061867                 0.018061  \n",
       "min          0.156500                 0.055040  \n",
       "25%          0.250400                 0.071460  \n",
       "50%          0.282200                 0.080040  \n",
       "75%          0.317900                 0.092080  \n",
       "max          0.663800                 0.207500  \n",
       "\n",
       "[8 rows x 30 columns]"
      ]
     },
     "execution_count": 29,
     "metadata": {},
     "output_type": "execute_result"
    }
   ],
   "source": [
    "data_bc.describe()"
   ]
  },
  {
   "cell_type": "code",
   "execution_count": 30,
   "id": "d6d42fb6",
   "metadata": {
    "ExecuteTime": {
     "end_time": "2022-10-13T11:37:17.353053Z",
     "start_time": "2022-10-13T11:37:16.217973Z"
    }
   },
   "outputs": [
    {
     "name": "stderr",
     "output_type": "stream",
     "text": [
      "C:\\ProgramData\\Anaconda3\\lib\\site-packages\\sklearn\\linear_model\\_logistic.py:763: ConvergenceWarning: lbfgs failed to converge (status=1):\n",
      "STOP: TOTAL NO. of ITERATIONS REACHED LIMIT.\n",
      "\n",
      "Increase the number of iterations (max_iter) or scale the data as shown in:\n",
      "    https://scikit-learn.org/stable/modules/preprocessing.html\n",
      "Please also refer to the documentation for alternative solver options:\n",
      "    https://scikit-learn.org/stable/modules/linear_model.html#logistic-regression\n",
      "  n_iter_i = _check_optimize_result(\n"
     ]
    },
    {
     "data": {
      "text/html": [
       "<div>\n",
       "<style scoped>\n",
       "    .dataframe tbody tr th:only-of-type {\n",
       "        vertical-align: middle;\n",
       "    }\n",
       "\n",
       "    .dataframe tbody tr th {\n",
       "        vertical-align: top;\n",
       "    }\n",
       "\n",
       "    .dataframe thead th {\n",
       "        text-align: right;\n",
       "    }\n",
       "</style>\n",
       "<table border=\"1\" class=\"dataframe\">\n",
       "  <thead>\n",
       "    <tr style=\"text-align: right;\">\n",
       "      <th></th>\n",
       "      <th>Classifier</th>\n",
       "      <th>Accuracy</th>\n",
       "    </tr>\n",
       "  </thead>\n",
       "  <tbody>\n",
       "    <tr>\n",
       "      <th>0</th>\n",
       "      <td>RandomForest</td>\n",
       "      <td>0.972028</td>\n",
       "    </tr>\n",
       "    <tr>\n",
       "      <th>1</th>\n",
       "      <td>Logistic</td>\n",
       "      <td>0.965035</td>\n",
       "    </tr>\n",
       "    <tr>\n",
       "      <th>2</th>\n",
       "      <td>KNeighbors</td>\n",
       "      <td>0.965035</td>\n",
       "    </tr>\n",
       "    <tr>\n",
       "      <th>3</th>\n",
       "      <td>LinearSVM</td>\n",
       "      <td>0.958042</td>\n",
       "    </tr>\n",
       "    <tr>\n",
       "      <th>4</th>\n",
       "      <td>GradientBoosting</td>\n",
       "      <td>0.958042</td>\n",
       "    </tr>\n",
       "    <tr>\n",
       "      <th>5</th>\n",
       "      <td>RadialSVM</td>\n",
       "      <td>0.951049</td>\n",
       "    </tr>\n",
       "    <tr>\n",
       "      <th>6</th>\n",
       "      <td>AdaBoost</td>\n",
       "      <td>0.951049</td>\n",
       "    </tr>\n",
       "    <tr>\n",
       "      <th>7</th>\n",
       "      <td>DecisionTree</td>\n",
       "      <td>0.930070</td>\n",
       "    </tr>\n",
       "  </tbody>\n",
       "</table>\n",
       "</div>"
      ],
      "text/plain": [
       "         Classifier  Accuracy\n",
       "0      RandomForest  0.972028\n",
       "1          Logistic  0.965035\n",
       "2        KNeighbors  0.965035\n",
       "3         LinearSVM  0.958042\n",
       "4  GradientBoosting  0.958042\n",
       "5         RadialSVM  0.951049\n",
       "6          AdaBoost  0.951049\n",
       "7      DecisionTree  0.930070"
      ]
     },
     "execution_count": 30,
     "metadata": {},
     "output_type": "execute_result"
    }
   ],
   "source": [
    "score1 = acc_score(data_bc,label_bc)\n",
    "score1"
   ]
  },
  {
   "cell_type": "markdown",
   "id": "149eac52",
   "metadata": {},
   "source": [
    "- 기본 classifier 가운데 성능이 좋은 RF 분류기를 선택하여\n",
    "- GA를 통한 변수 선택법을 했을 때 결과가 잘 나오는지 확인"
   ]
  },
  {
   "cell_type": "code",
   "execution_count": 31,
   "id": "9926dc9a",
   "metadata": {
    "ExecuteTime": {
     "end_time": "2022-10-13T11:39:25.284288Z",
     "start_time": "2022-10-13T11:37:17.354050Z"
    }
   },
   "outputs": [
    {
     "name": "stderr",
     "output_type": "stream",
     "text": [
      "C:\\Users\\YongGon\\AppData\\Local\\Temp/ipykernel_12196/524632877.py:4: DeprecationWarning: `np.bool` is a deprecated alias for the builtin `bool`. To silence this warning, use `bool` by itself. Doing this will not modify any behavior and is safe. If you specifically wanted the numpy scalar type, use `np.bool_` here.\n",
      "Deprecated in NumPy 1.20; for more details and guidance: https://numpy.org/devdocs/release/1.20.0-notes.html#deprecations\n",
      "  chromosome = np.ones(n_feat,dtype=np.bool)\n"
     ]
    },
    {
     "name": "stdout",
     "output_type": "stream",
     "text": [
      "Best score in generation 1 : [0.993006993006993]\n",
      "Best score in generation 2 : [0.993006993006993]\n",
      "Best score in generation 3 : [0.993006993006993]\n",
      "Best score in generation 4 : [0.993006993006993]\n",
      "Best score in generation 5 : [0.993006993006993]\n",
      "Best score in generation 6 : [0.993006993006993]\n",
      "Best score in generation 7 : [0.993006993006993]\n",
      "Best score in generation 8 : [0.993006993006993]\n",
      "Best score in generation 9 : [0.986013986013986]\n",
      "Best score in generation 10 : [0.993006993006993]\n"
     ]
    }
   ],
   "source": [
    "logmodel = RandomForestClassifier(n_estimators=200, random_state=0)\n",
    "X_train,X_test, Y_train, Y_test = split(data_bc, label_bc)\n",
    "chromo_df_bc,score_bc=generations(data_bc, label_bc,\n",
    "                                  size=100, n_feat=data_bc.shape[1], n_parents=64, mutation_rate=0.20, n_gen=10,\n",
    "                                  X_train = X_train, X_test = X_test, Y_train = Y_train, Y_test = Y_test)"
   ]
  },
  {
   "cell_type": "markdown",
   "id": "e8faca64",
   "metadata": {},
   "source": [
    "- 모든 generation에 대해 1% - 2%의 정확도가 향상됨"
   ]
  },
  {
   "cell_type": "code",
   "execution_count": 32,
   "id": "5334b77a",
   "metadata": {
    "ExecuteTime": {
     "end_time": "2022-10-13T11:39:25.343916Z",
     "start_time": "2022-10-13T11:39:25.285287Z"
    }
   },
   "outputs": [
    {
     "data": {
      "image/png": "[encoded data removed]",
      "text/plain": [
       "<Figure size 432x288 with 1 Axes>"
      ]
     },
     "metadata": {
      "needs_background": "light"
     },
     "output_type": "display_data"
    }
   ],
   "source": [
    "plot(score_bc,0.9,1.0,c = \"gold\")"
   ]
  },
  {
   "cell_type": "markdown",
   "id": "d122c69e",
   "metadata": {},
   "source": [
    "## Load Polycystic ovary syndrome (PCOS) Dataset & Preprocessing"
   ]
  },
  {
   "cell_type": "markdown",
   "id": "0b5b9fcb",
   "metadata": {},
   "source": [
    "- classification case를 위해 Polycystic ovary syndrome (PCOS) Dataset 사용 (Kaggle dataset)\n",
    "- feature: [' Age (yrs)', 'Weight (Kg)', 'Height(Cm) ', 'BMI', 'Blood Group', 'Pulse rate(bpm) ', 'RR (breaths/min)', 'Hb(g/dl)', 'Cycle(R/I)', 'Cycle length(days)', 'Marraige Status (Yrs)', 'Pregnant(Y/N)', 'No. of aborptions', '  I   beta-HCG(mIU/mL)', 'FSH(mIU/mL)', 'LH(mIU/mL)', 'FSH/LH', 'Hip(inch)', 'Waist(inch)', 'Waist:Hip Ratio', 'TSH (mIU/L)', 'PRL(ng/mL)', 'Vit D3 (ng/mL)', 'PRG(ng/mL)', 'RBS(mg/dl)', 'Weight gain(Y/N)', 'hair growth(Y/N)', 'Skin darkening (Y/N)', 'Hair loss(Y/N)', 'Pimples(Y/N)', 'Fast food (Y/N)', 'Reg.Exercise(Y/N)', 'BP _Systolic (mmHg)', 'BP _Diastolic (mmHg)', 'Follicle No. (L)', 'Follicle No. (R)', 'Avg. F size (L) (mm)', 'Avg. F size (R) (mm)', 'Endometrium (mm)']\n",
    "- target: [\"PCOS (Y/N)\"]"
   ]
  },
  {
   "cell_type": "code",
   "execution_count": 33,
   "id": "e58b4b5b",
   "metadata": {
    "ExecuteTime": {
     "end_time": "2022-10-13T11:39:25.359127Z",
     "start_time": "2022-10-13T11:39:25.344913Z"
    }
   },
   "outputs": [
    {
     "name": "stdout",
     "output_type": "stream",
     "text": [
      "PCOS dataset:\n",
      " 541 Records\n",
      " 39 Features\n"
     ]
    }
   ],
   "source": [
    "data_pcos = pd.read_csv(\"PCOS_data.csv\")\n",
    "label_pcos = data_pcos[\"PCOS (Y/N)\"]\n",
    "data_pcos.drop([\"Sl. No\",\"Patient File No.\",\"PCOS (Y/N)\",\"Unnamed: 44\",\"II    beta-HCG(mIU/mL)\",\"AMH(ng/mL)\"],axis = 1,inplace = True)\n",
    "data_pcos[\"Marraige Status (Yrs)\"].fillna(data_pcos['Marraige Status (Yrs)'].describe().loc[['50%']][0], inplace = True) \n",
    "data_pcos[\"Fast food (Y/N)\"].fillna(1, inplace = True) \n",
    "\n",
    "print(\"PCOS dataset:\\n\",data_pcos.shape[0],\"Records\\n\",data_pcos.shape[1],\"Features\")"
   ]
  },
  {
   "cell_type": "markdown",
   "id": "590d862d",
   "metadata": {},
   "source": [
    "- 모든 변수가 연속형 변수임을 확인"
   ]
  },
  {
   "cell_type": "code",
   "execution_count": 34,
   "id": "7b324a0c",
   "metadata": {
    "ExecuteTime": {
     "end_time": "2022-10-13T11:39:25.374079Z",
     "start_time": "2022-10-13T11:39:25.359127Z"
    }
   },
   "outputs": [
    {
     "data": {
      "text/html": [
       "<div>\n",
       "<style scoped>\n",
       "    .dataframe tbody tr th:only-of-type {\n",
       "        vertical-align: middle;\n",
       "    }\n",
       "\n",
       "    .dataframe tbody tr th {\n",
       "        vertical-align: top;\n",
       "    }\n",
       "\n",
       "    .dataframe thead th {\n",
       "        text-align: right;\n",
       "    }\n",
       "</style>\n",
       "<table border=\"1\" class=\"dataframe\">\n",
       "  <thead>\n",
       "    <tr style=\"text-align: right;\">\n",
       "      <th></th>\n",
       "      <th>Age (yrs)</th>\n",
       "      <th>Weight (Kg)</th>\n",
       "      <th>Height(Cm)</th>\n",
       "      <th>BMI</th>\n",
       "      <th>Blood Group</th>\n",
       "      <th>Pulse rate(bpm)</th>\n",
       "      <th>RR (breaths/min)</th>\n",
       "      <th>Hb(g/dl)</th>\n",
       "      <th>Cycle(R/I)</th>\n",
       "      <th>Cycle length(days)</th>\n",
       "      <th>...</th>\n",
       "      <th>Pimples(Y/N)</th>\n",
       "      <th>Fast food (Y/N)</th>\n",
       "      <th>Reg.Exercise(Y/N)</th>\n",
       "      <th>BP _Systolic (mmHg)</th>\n",
       "      <th>BP _Diastolic (mmHg)</th>\n",
       "      <th>Follicle No. (L)</th>\n",
       "      <th>Follicle No. (R)</th>\n",
       "      <th>Avg. F size (L) (mm)</th>\n",
       "      <th>Avg. F size (R) (mm)</th>\n",
       "      <th>Endometrium (mm)</th>\n",
       "    </tr>\n",
       "  </thead>\n",
       "  <tbody>\n",
       "    <tr>\n",
       "      <th>0</th>\n",
       "      <td>28</td>\n",
       "      <td>44.6</td>\n",
       "      <td>152.0</td>\n",
       "      <td>19.304017</td>\n",
       "      <td>15</td>\n",
       "      <td>78</td>\n",
       "      <td>22</td>\n",
       "      <td>10.48</td>\n",
       "      <td>2</td>\n",
       "      <td>5</td>\n",
       "      <td>...</td>\n",
       "      <td>0</td>\n",
       "      <td>1</td>\n",
       "      <td>0</td>\n",
       "      <td>110</td>\n",
       "      <td>80</td>\n",
       "      <td>3</td>\n",
       "      <td>3</td>\n",
       "      <td>18.0</td>\n",
       "      <td>18.0</td>\n",
       "      <td>8.5</td>\n",
       "    </tr>\n",
       "    <tr>\n",
       "      <th>1</th>\n",
       "      <td>36</td>\n",
       "      <td>65.0</td>\n",
       "      <td>161.5</td>\n",
       "      <td>24.921163</td>\n",
       "      <td>15</td>\n",
       "      <td>74</td>\n",
       "      <td>20</td>\n",
       "      <td>11.70</td>\n",
       "      <td>2</td>\n",
       "      <td>5</td>\n",
       "      <td>...</td>\n",
       "      <td>0</td>\n",
       "      <td>0</td>\n",
       "      <td>0</td>\n",
       "      <td>120</td>\n",
       "      <td>70</td>\n",
       "      <td>3</td>\n",
       "      <td>5</td>\n",
       "      <td>15.0</td>\n",
       "      <td>14.0</td>\n",
       "      <td>3.7</td>\n",
       "    </tr>\n",
       "    <tr>\n",
       "      <th>2</th>\n",
       "      <td>33</td>\n",
       "      <td>68.8</td>\n",
       "      <td>165.0</td>\n",
       "      <td>25.270891</td>\n",
       "      <td>11</td>\n",
       "      <td>72</td>\n",
       "      <td>18</td>\n",
       "      <td>11.80</td>\n",
       "      <td>2</td>\n",
       "      <td>5</td>\n",
       "      <td>...</td>\n",
       "      <td>1</td>\n",
       "      <td>1</td>\n",
       "      <td>0</td>\n",
       "      <td>120</td>\n",
       "      <td>80</td>\n",
       "      <td>13</td>\n",
       "      <td>15</td>\n",
       "      <td>18.0</td>\n",
       "      <td>20.0</td>\n",
       "      <td>10.0</td>\n",
       "    </tr>\n",
       "    <tr>\n",
       "      <th>3</th>\n",
       "      <td>37</td>\n",
       "      <td>65.0</td>\n",
       "      <td>148.0</td>\n",
       "      <td>29.674945</td>\n",
       "      <td>13</td>\n",
       "      <td>72</td>\n",
       "      <td>20</td>\n",
       "      <td>12.00</td>\n",
       "      <td>2</td>\n",
       "      <td>5</td>\n",
       "      <td>...</td>\n",
       "      <td>0</td>\n",
       "      <td>0</td>\n",
       "      <td>0</td>\n",
       "      <td>120</td>\n",
       "      <td>70</td>\n",
       "      <td>2</td>\n",
       "      <td>2</td>\n",
       "      <td>15.0</td>\n",
       "      <td>14.0</td>\n",
       "      <td>7.5</td>\n",
       "    </tr>\n",
       "    <tr>\n",
       "      <th>4</th>\n",
       "      <td>25</td>\n",
       "      <td>52.0</td>\n",
       "      <td>161.0</td>\n",
       "      <td>20.060954</td>\n",
       "      <td>11</td>\n",
       "      <td>72</td>\n",
       "      <td>18</td>\n",
       "      <td>10.00</td>\n",
       "      <td>2</td>\n",
       "      <td>5</td>\n",
       "      <td>...</td>\n",
       "      <td>0</td>\n",
       "      <td>0</td>\n",
       "      <td>0</td>\n",
       "      <td>120</td>\n",
       "      <td>80</td>\n",
       "      <td>3</td>\n",
       "      <td>4</td>\n",
       "      <td>16.0</td>\n",
       "      <td>14.0</td>\n",
       "      <td>7.0</td>\n",
       "    </tr>\n",
       "  </tbody>\n",
       "</table>\n",
       "<p>5 rows × 39 columns</p>\n",
       "</div>"
      ],
      "text/plain": [
       "    Age (yrs)  Weight (Kg)  Height(Cm)         BMI  Blood Group  \\\n",
       "0          28         44.6        152.0  19.304017           15   \n",
       "1          36         65.0        161.5  24.921163           15   \n",
       "2          33         68.8        165.0  25.270891           11   \n",
       "3          37         65.0        148.0  29.674945           13   \n",
       "4          25         52.0        161.0  20.060954           11   \n",
       "\n",
       "   Pulse rate(bpm)   RR (breaths/min)  Hb(g/dl)  Cycle(R/I)  \\\n",
       "0                78                22     10.48           2   \n",
       "1                74                20     11.70           2   \n",
       "2                72                18     11.80           2   \n",
       "3                72                20     12.00           2   \n",
       "4                72                18     10.00           2   \n",
       "\n",
       "   Cycle length(days)  ...  Pimples(Y/N)  Fast food (Y/N)  Reg.Exercise(Y/N)  \\\n",
       "0                   5  ...             0                1                  0   \n",
       "1                   5  ...             0                0                  0   \n",
       "2                   5  ...             1                1                  0   \n",
       "3                   5  ...             0                0                  0   \n",
       "4                   5  ...             0                0                  0   \n",
       "\n",
       "   BP _Systolic (mmHg)  BP _Diastolic (mmHg)  Follicle No. (L)  \\\n",
       "0                  110                    80                 3   \n",
       "1                  120                    70                 3   \n",
       "2                  120                    80                13   \n",
       "3                  120                    70                 2   \n",
       "4                  120                    80                 3   \n",
       "\n",
       "   Follicle No. (R)  Avg. F size (L) (mm)  Avg. F size (R) (mm)  \\\n",
       "0                 3                  18.0                  18.0   \n",
       "1                 5                  15.0                  14.0   \n",
       "2                15                  18.0                  20.0   \n",
       "3                 2                  15.0                  14.0   \n",
       "4                 4                  16.0                  14.0   \n",
       "\n",
       "   Endometrium (mm)  \n",
       "0               8.5  \n",
       "1               3.7  \n",
       "2              10.0  \n",
       "3               7.5  \n",
       "4               7.0  \n",
       "\n",
       "[5 rows x 39 columns]"
      ]
     },
     "metadata": {},
     "output_type": "display_data"
    }
   ],
   "source": [
    "display(data_pcos.head())"
   ]
  },
  {
   "cell_type": "code",
   "execution_count": 35,
   "id": "a992d306",
   "metadata": {
    "ExecuteTime": {
     "end_time": "2022-10-13T11:39:25.418929Z",
     "start_time": "2022-10-13T11:39:25.375076Z"
    }
   },
   "outputs": [
    {
     "data": {
      "text/html": [
       "<div>\n",
       "<style scoped>\n",
       "    .dataframe tbody tr th:only-of-type {\n",
       "        vertical-align: middle;\n",
       "    }\n",
       "\n",
       "    .dataframe tbody tr th {\n",
       "        vertical-align: top;\n",
       "    }\n",
       "\n",
       "    .dataframe thead th {\n",
       "        text-align: right;\n",
       "    }\n",
       "</style>\n",
       "<table border=\"1\" class=\"dataframe\">\n",
       "  <thead>\n",
       "    <tr style=\"text-align: right;\">\n",
       "      <th></th>\n",
       "      <th>Age (yrs)</th>\n",
       "      <th>Weight (Kg)</th>\n",
       "      <th>Height(Cm)</th>\n",
       "      <th>BMI</th>\n",
       "      <th>Blood Group</th>\n",
       "      <th>Pulse rate(bpm)</th>\n",
       "      <th>RR (breaths/min)</th>\n",
       "      <th>Hb(g/dl)</th>\n",
       "      <th>Cycle(R/I)</th>\n",
       "      <th>Cycle length(days)</th>\n",
       "      <th>...</th>\n",
       "      <th>Pimples(Y/N)</th>\n",
       "      <th>Fast food (Y/N)</th>\n",
       "      <th>Reg.Exercise(Y/N)</th>\n",
       "      <th>BP _Systolic (mmHg)</th>\n",
       "      <th>BP _Diastolic (mmHg)</th>\n",
       "      <th>Follicle No. (L)</th>\n",
       "      <th>Follicle No. (R)</th>\n",
       "      <th>Avg. F size (L) (mm)</th>\n",
       "      <th>Avg. F size (R) (mm)</th>\n",
       "      <th>Endometrium (mm)</th>\n",
       "    </tr>\n",
       "  </thead>\n",
       "  <tbody>\n",
       "    <tr>\n",
       "      <th>count</th>\n",
       "      <td>541.000000</td>\n",
       "      <td>541.000000</td>\n",
       "      <td>541.000000</td>\n",
       "      <td>541.000000</td>\n",
       "      <td>541.000000</td>\n",
       "      <td>541.000000</td>\n",
       "      <td>541.000000</td>\n",
       "      <td>541.000000</td>\n",
       "      <td>541.000000</td>\n",
       "      <td>541.00000</td>\n",
       "      <td>...</td>\n",
       "      <td>541.000000</td>\n",
       "      <td>541.000000</td>\n",
       "      <td>541.000000</td>\n",
       "      <td>541.000000</td>\n",
       "      <td>541.000000</td>\n",
       "      <td>541.000000</td>\n",
       "      <td>541.000000</td>\n",
       "      <td>541.000000</td>\n",
       "      <td>541.000000</td>\n",
       "      <td>541.000000</td>\n",
       "    </tr>\n",
       "    <tr>\n",
       "      <th>mean</th>\n",
       "      <td>31.430684</td>\n",
       "      <td>59.637153</td>\n",
       "      <td>156.484835</td>\n",
       "      <td>24.319360</td>\n",
       "      <td>13.802218</td>\n",
       "      <td>73.247689</td>\n",
       "      <td>19.243993</td>\n",
       "      <td>11.160037</td>\n",
       "      <td>2.560074</td>\n",
       "      <td>4.94085</td>\n",
       "      <td>...</td>\n",
       "      <td>0.489834</td>\n",
       "      <td>0.513863</td>\n",
       "      <td>0.247689</td>\n",
       "      <td>114.661738</td>\n",
       "      <td>76.927911</td>\n",
       "      <td>6.129390</td>\n",
       "      <td>6.641405</td>\n",
       "      <td>15.018115</td>\n",
       "      <td>15.451701</td>\n",
       "      <td>8.475915</td>\n",
       "    </tr>\n",
       "    <tr>\n",
       "      <th>std</th>\n",
       "      <td>5.411006</td>\n",
       "      <td>11.028287</td>\n",
       "      <td>6.033545</td>\n",
       "      <td>4.050810</td>\n",
       "      <td>1.840812</td>\n",
       "      <td>4.430285</td>\n",
       "      <td>1.688629</td>\n",
       "      <td>0.866904</td>\n",
       "      <td>0.901950</td>\n",
       "      <td>1.49202</td>\n",
       "      <td>...</td>\n",
       "      <td>0.500359</td>\n",
       "      <td>0.500270</td>\n",
       "      <td>0.432070</td>\n",
       "      <td>7.384556</td>\n",
       "      <td>5.574112</td>\n",
       "      <td>4.229294</td>\n",
       "      <td>4.436889</td>\n",
       "      <td>3.566839</td>\n",
       "      <td>3.318848</td>\n",
       "      <td>2.165381</td>\n",
       "    </tr>\n",
       "    <tr>\n",
       "      <th>min</th>\n",
       "      <td>20.000000</td>\n",
       "      <td>31.000000</td>\n",
       "      <td>137.000000</td>\n",
       "      <td>12.417882</td>\n",
       "      <td>11.000000</td>\n",
       "      <td>13.000000</td>\n",
       "      <td>16.000000</td>\n",
       "      <td>8.500000</td>\n",
       "      <td>2.000000</td>\n",
       "      <td>0.00000</td>\n",
       "      <td>...</td>\n",
       "      <td>0.000000</td>\n",
       "      <td>0.000000</td>\n",
       "      <td>0.000000</td>\n",
       "      <td>12.000000</td>\n",
       "      <td>8.000000</td>\n",
       "      <td>0.000000</td>\n",
       "      <td>0.000000</td>\n",
       "      <td>0.000000</td>\n",
       "      <td>0.000000</td>\n",
       "      <td>0.000000</td>\n",
       "    </tr>\n",
       "    <tr>\n",
       "      <th>25%</th>\n",
       "      <td>28.000000</td>\n",
       "      <td>52.000000</td>\n",
       "      <td>152.000000</td>\n",
       "      <td>21.707923</td>\n",
       "      <td>13.000000</td>\n",
       "      <td>72.000000</td>\n",
       "      <td>18.000000</td>\n",
       "      <td>10.500000</td>\n",
       "      <td>2.000000</td>\n",
       "      <td>4.00000</td>\n",
       "      <td>...</td>\n",
       "      <td>0.000000</td>\n",
       "      <td>0.000000</td>\n",
       "      <td>0.000000</td>\n",
       "      <td>110.000000</td>\n",
       "      <td>70.000000</td>\n",
       "      <td>3.000000</td>\n",
       "      <td>3.000000</td>\n",
       "      <td>13.000000</td>\n",
       "      <td>13.000000</td>\n",
       "      <td>7.000000</td>\n",
       "    </tr>\n",
       "    <tr>\n",
       "      <th>50%</th>\n",
       "      <td>31.000000</td>\n",
       "      <td>59.000000</td>\n",
       "      <td>156.000000</td>\n",
       "      <td>24.238227</td>\n",
       "      <td>14.000000</td>\n",
       "      <td>72.000000</td>\n",
       "      <td>18.000000</td>\n",
       "      <td>11.000000</td>\n",
       "      <td>2.000000</td>\n",
       "      <td>5.00000</td>\n",
       "      <td>...</td>\n",
       "      <td>0.000000</td>\n",
       "      <td>1.000000</td>\n",
       "      <td>0.000000</td>\n",
       "      <td>110.000000</td>\n",
       "      <td>80.000000</td>\n",
       "      <td>5.000000</td>\n",
       "      <td>6.000000</td>\n",
       "      <td>15.000000</td>\n",
       "      <td>16.000000</td>\n",
       "      <td>8.500000</td>\n",
       "    </tr>\n",
       "    <tr>\n",
       "      <th>75%</th>\n",
       "      <td>35.000000</td>\n",
       "      <td>65.000000</td>\n",
       "      <td>160.000000</td>\n",
       "      <td>26.638918</td>\n",
       "      <td>15.000000</td>\n",
       "      <td>74.000000</td>\n",
       "      <td>20.000000</td>\n",
       "      <td>11.700000</td>\n",
       "      <td>4.000000</td>\n",
       "      <td>5.00000</td>\n",
       "      <td>...</td>\n",
       "      <td>1.000000</td>\n",
       "      <td>1.000000</td>\n",
       "      <td>0.000000</td>\n",
       "      <td>120.000000</td>\n",
       "      <td>80.000000</td>\n",
       "      <td>9.000000</td>\n",
       "      <td>10.000000</td>\n",
       "      <td>18.000000</td>\n",
       "      <td>18.000000</td>\n",
       "      <td>9.800000</td>\n",
       "    </tr>\n",
       "    <tr>\n",
       "      <th>max</th>\n",
       "      <td>48.000000</td>\n",
       "      <td>108.000000</td>\n",
       "      <td>180.000000</td>\n",
       "      <td>38.900714</td>\n",
       "      <td>18.000000</td>\n",
       "      <td>82.000000</td>\n",
       "      <td>28.000000</td>\n",
       "      <td>14.800000</td>\n",
       "      <td>5.000000</td>\n",
       "      <td>12.00000</td>\n",
       "      <td>...</td>\n",
       "      <td>1.000000</td>\n",
       "      <td>1.000000</td>\n",
       "      <td>1.000000</td>\n",
       "      <td>140.000000</td>\n",
       "      <td>100.000000</td>\n",
       "      <td>22.000000</td>\n",
       "      <td>20.000000</td>\n",
       "      <td>24.000000</td>\n",
       "      <td>24.000000</td>\n",
       "      <td>18.000000</td>\n",
       "    </tr>\n",
       "  </tbody>\n",
       "</table>\n",
       "<p>8 rows × 39 columns</p>\n",
       "</div>"
      ],
      "text/plain": [
       "        Age (yrs)  Weight (Kg)  Height(Cm)          BMI  Blood Group  \\\n",
       "count  541.000000   541.000000   541.000000  541.000000   541.000000   \n",
       "mean    31.430684    59.637153   156.484835   24.319360    13.802218   \n",
       "std      5.411006    11.028287     6.033545    4.050810     1.840812   \n",
       "min     20.000000    31.000000   137.000000   12.417882    11.000000   \n",
       "25%     28.000000    52.000000   152.000000   21.707923    13.000000   \n",
       "50%     31.000000    59.000000   156.000000   24.238227    14.000000   \n",
       "75%     35.000000    65.000000   160.000000   26.638918    15.000000   \n",
       "max     48.000000   108.000000   180.000000   38.900714    18.000000   \n",
       "\n",
       "       Pulse rate(bpm)   RR (breaths/min)    Hb(g/dl)  Cycle(R/I)  \\\n",
       "count        541.000000        541.000000  541.000000  541.000000   \n",
       "mean          73.247689         19.243993   11.160037    2.560074   \n",
       "std            4.430285          1.688629    0.866904    0.901950   \n",
       "min           13.000000         16.000000    8.500000    2.000000   \n",
       "25%           72.000000         18.000000   10.500000    2.000000   \n",
       "50%           72.000000         18.000000   11.000000    2.000000   \n",
       "75%           74.000000         20.000000   11.700000    4.000000   \n",
       "max           82.000000         28.000000   14.800000    5.000000   \n",
       "\n",
       "       Cycle length(days)  ...  Pimples(Y/N)  Fast food (Y/N)  \\\n",
       "count           541.00000  ...    541.000000       541.000000   \n",
       "mean              4.94085  ...      0.489834         0.513863   \n",
       "std               1.49202  ...      0.500359         0.500270   \n",
       "min               0.00000  ...      0.000000         0.000000   \n",
       "25%               4.00000  ...      0.000000         0.000000   \n",
       "50%               5.00000  ...      0.000000         1.000000   \n",
       "75%               5.00000  ...      1.000000         1.000000   \n",
       "max              12.00000  ...      1.000000         1.000000   \n",
       "\n",
       "       Reg.Exercise(Y/N)  BP _Systolic (mmHg)  BP _Diastolic (mmHg)  \\\n",
       "count         541.000000           541.000000            541.000000   \n",
       "mean            0.247689           114.661738             76.927911   \n",
       "std             0.432070             7.384556              5.574112   \n",
       "min             0.000000            12.000000              8.000000   \n",
       "25%             0.000000           110.000000             70.000000   \n",
       "50%             0.000000           110.000000             80.000000   \n",
       "75%             0.000000           120.000000             80.000000   \n",
       "max             1.000000           140.000000            100.000000   \n",
       "\n",
       "       Follicle No. (L)  Follicle No. (R)  Avg. F size (L) (mm)  \\\n",
       "count        541.000000        541.000000            541.000000   \n",
       "mean           6.129390          6.641405             15.018115   \n",
       "std            4.229294          4.436889              3.566839   \n",
       "min            0.000000          0.000000              0.000000   \n",
       "25%            3.000000          3.000000             13.000000   \n",
       "50%            5.000000          6.000000             15.000000   \n",
       "75%            9.000000         10.000000             18.000000   \n",
       "max           22.000000         20.000000             24.000000   \n",
       "\n",
       "       Avg. F size (R) (mm)  Endometrium (mm)  \n",
       "count            541.000000        541.000000  \n",
       "mean              15.451701          8.475915  \n",
       "std                3.318848          2.165381  \n",
       "min                0.000000          0.000000  \n",
       "25%               13.000000          7.000000  \n",
       "50%               16.000000          8.500000  \n",
       "75%               18.000000          9.800000  \n",
       "max               24.000000         18.000000  \n",
       "\n",
       "[8 rows x 39 columns]"
      ]
     },
     "execution_count": 35,
     "metadata": {},
     "output_type": "execute_result"
    }
   ],
   "source": [
    "data_pcos.describe()"
   ]
  },
  {
   "cell_type": "code",
   "execution_count": 36,
   "id": "817ac2d7",
   "metadata": {
    "ExecuteTime": {
     "end_time": "2022-10-13T11:39:54.693709Z",
     "start_time": "2022-10-13T11:39:25.419926Z"
    }
   },
   "outputs": [
    {
     "name": "stderr",
     "output_type": "stream",
     "text": [
      "C:\\ProgramData\\Anaconda3\\lib\\site-packages\\sklearn\\linear_model\\_logistic.py:763: ConvergenceWarning: lbfgs failed to converge (status=1):\n",
      "STOP: TOTAL NO. of ITERATIONS REACHED LIMIT.\n",
      "\n",
      "Increase the number of iterations (max_iter) or scale the data as shown in:\n",
      "    https://scikit-learn.org/stable/modules/preprocessing.html\n",
      "Please also refer to the documentation for alternative solver options:\n",
      "    https://scikit-learn.org/stable/modules/linear_model.html#logistic-regression\n",
      "  n_iter_i = _check_optimize_result(\n"
     ]
    },
    {
     "data": {
      "text/html": [
       "<div>\n",
       "<style scoped>\n",
       "    .dataframe tbody tr th:only-of-type {\n",
       "        vertical-align: middle;\n",
       "    }\n",
       "\n",
       "    .dataframe tbody tr th {\n",
       "        vertical-align: top;\n",
       "    }\n",
       "\n",
       "    .dataframe thead th {\n",
       "        text-align: right;\n",
       "    }\n",
       "</style>\n",
       "<table border=\"1\" class=\"dataframe\">\n",
       "  <thead>\n",
       "    <tr style=\"text-align: right;\">\n",
       "      <th></th>\n",
       "      <th>Classifier</th>\n",
       "      <th>Accuracy</th>\n",
       "    </tr>\n",
       "  </thead>\n",
       "  <tbody>\n",
       "    <tr>\n",
       "      <th>0</th>\n",
       "      <td>RandomForest</td>\n",
       "      <td>0.882353</td>\n",
       "    </tr>\n",
       "    <tr>\n",
       "      <th>1</th>\n",
       "      <td>AdaBoost</td>\n",
       "      <td>0.882353</td>\n",
       "    </tr>\n",
       "    <tr>\n",
       "      <th>2</th>\n",
       "      <td>GradientBoosting</td>\n",
       "      <td>0.860294</td>\n",
       "    </tr>\n",
       "    <tr>\n",
       "      <th>3</th>\n",
       "      <td>LinearSVM</td>\n",
       "      <td>0.852941</td>\n",
       "    </tr>\n",
       "    <tr>\n",
       "      <th>4</th>\n",
       "      <td>Logistic</td>\n",
       "      <td>0.852941</td>\n",
       "    </tr>\n",
       "    <tr>\n",
       "      <th>5</th>\n",
       "      <td>DecisionTree</td>\n",
       "      <td>0.838235</td>\n",
       "    </tr>\n",
       "    <tr>\n",
       "      <th>6</th>\n",
       "      <td>RadialSVM</td>\n",
       "      <td>0.698529</td>\n",
       "    </tr>\n",
       "    <tr>\n",
       "      <th>7</th>\n",
       "      <td>KNeighbors</td>\n",
       "      <td>0.676471</td>\n",
       "    </tr>\n",
       "  </tbody>\n",
       "</table>\n",
       "</div>"
      ],
      "text/plain": [
       "         Classifier  Accuracy\n",
       "0      RandomForest  0.882353\n",
       "1          AdaBoost  0.882353\n",
       "2  GradientBoosting  0.860294\n",
       "3         LinearSVM  0.852941\n",
       "4          Logistic  0.852941\n",
       "5      DecisionTree  0.838235\n",
       "6         RadialSVM  0.698529\n",
       "7        KNeighbors  0.676471"
      ]
     },
     "execution_count": 36,
     "metadata": {},
     "output_type": "execute_result"
    }
   ],
   "source": [
    "score2 = acc_score(data_pcos, label_pcos)\n",
    "score2"
   ]
  },
  {
   "cell_type": "markdown",
   "id": "7efb65a8",
   "metadata": {},
   "source": [
    "- 기본 classifier 가운데 성능이 좋은 RF 분류기를 선택하여\n",
    "- GA를 통한 변수 선택법을 했을 때 결과가 잘 나오는지 확인"
   ]
  },
  {
   "cell_type": "code",
   "execution_count": 37,
   "id": "2adf1bad",
   "metadata": {
    "ExecuteTime": {
     "end_time": "2022-10-13T11:41:57.978522Z",
     "start_time": "2022-10-13T11:39:54.694705Z"
    }
   },
   "outputs": [
    {
     "name": "stderr",
     "output_type": "stream",
     "text": [
      "C:\\Users\\YongGon\\AppData\\Local\\Temp/ipykernel_12196/524632877.py:4: DeprecationWarning: `np.bool` is a deprecated alias for the builtin `bool`. To silence this warning, use `bool` by itself. Doing this will not modify any behavior and is safe. If you specifically wanted the numpy scalar type, use `np.bool_` here.\n",
      "Deprecated in NumPy 1.20; for more details and guidance: https://numpy.org/devdocs/release/1.20.0-notes.html#deprecations\n",
      "  chromosome = np.ones(n_feat,dtype=np.bool)\n"
     ]
    },
    {
     "name": "stdout",
     "output_type": "stream",
     "text": [
      "Best score in generation 1 : [0.9117647058823529]\n",
      "Best score in generation 2 : [0.9117647058823529]\n",
      "Best score in generation 3 : [0.9191176470588235]\n",
      "Best score in generation 4 : [0.9044117647058824]\n",
      "Best score in generation 5 : [0.9191176470588235]\n",
      "Best score in generation 6 : [0.9117647058823529]\n",
      "Best score in generation 7 : [0.9191176470588235]\n",
      "Best score in generation 8 : [0.9117647058823529]\n",
      "Best score in generation 9 : [0.9044117647058824]\n",
      "Best score in generation 10 : [0.9044117647058824]\n"
     ]
    }
   ],
   "source": [
    "logmodel = RandomForestClassifier(n_estimators=200, random_state=0)\n",
    "X_train,X_test, Y_train, Y_test = split(data_pcos,label_pcos)\n",
    "chromo_df_pcos,score_pcos=generations(data_pcos, label_pcos,\n",
    "                                      size=100, n_feat=data_pcos.shape[1], n_parents=64, mutation_rate=0.20, n_gen=10,\n",
    "                                      X_train = X_train, X_test = X_test, Y_train = Y_train, Y_test = Y_test)"
   ]
  },
  {
   "cell_type": "markdown",
   "id": "fa48c548",
   "metadata": {},
   "source": [
    "- 모든 generation에 대해 대략 2% - 4%의 정확도가 향상됨"
   ]
  },
  {
   "cell_type": "code",
   "execution_count": 38,
   "id": "15a583eb",
   "metadata": {
    "ExecuteTime": {
     "end_time": "2022-10-13T11:41:58.038323Z",
     "start_time": "2022-10-13T11:41:57.979520Z"
    }
   },
   "outputs": [
    {
     "data": {
      "image/png": "[encoded data removed]",
      "text/plain": [
       "<Figure size 432x288 with 1 Axes>"
      ]
     },
     "metadata": {
      "needs_background": "light"
     },
     "output_type": "display_data"
    }
   ],
   "source": [
    "plot(score_pcos,0.9,1.0,c = \"limegreen\")"
   ]
  }
 ],
 "metadata": {
  "kernelspec": {
   "display_name": "Python 3 (ipykernel)",
   "language": "python",
   "name": "python3"
  },
  "language_info": {
   "codemirror_mode": {
    "name": "ipython",
    "version": 3
   },
   "file_extension": ".py",
   "mimetype": "text/x-python",
   "name": "python",
   "nbconvert_exporter": "python",
   "pygments_lexer": "ipython3",
   "version": "3.9.7"
  },
  "toc": {
   "base_numbering": 1,
   "nav_menu": {},
   "number_sections": true,
   "sideBar": true,
   "skip_h1_title": false,
   "title_cell": "Table of Contents",
   "title_sidebar": "Contents",
   "toc_cell": false,
   "toc_position": {
    "height": "calc(100% - 180px)",
    "left": "10px",
    "top": "150px",
    "width": "274.875px"
   },
   "toc_section_display": true,
   "toc_window_display": true
  },
  "varInspector": {
   "cols": {
    "lenName": 16,
    "lenType": 16,
    "lenVar": 40
   },
   "kernels_config": {
    "python": {
     "delete_cmd_postfix": "",
     "delete_cmd_prefix": "del ",
     "library": "var_list.py",
     "varRefreshCmd": "print(var_dic_list())"
    },
    "r": {
     "delete_cmd_postfix": ") ",
     "delete_cmd_prefix": "rm(",
     "library": "var_list.r",
     "varRefreshCmd": "cat(var_dic_list()) "
    }
   },
   "position": {
    "height": "1003.85px",
    "left": "17.3333px",
    "right": "20px",
    "top": "533px",
    "width": "436.625px"
   },
   "types_to_exclude": [
    "module",
    "function",
    "builtin_function_or_method",
    "instance",
    "_Feature"
   ],
   "window_display": false
  }
 },
 "nbformat": 4,
 "nbformat_minor": 5
}
